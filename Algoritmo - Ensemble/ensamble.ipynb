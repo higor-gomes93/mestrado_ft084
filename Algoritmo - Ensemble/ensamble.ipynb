{
 "cells": [
  {
   "cell_type": "markdown",
   "metadata": {},
   "source": [
    "## FT084 - Introdução a Mineração de Dados\n",
    "---\n",
    "### Tarefa 02: Naïve Bayes, k-NN e Ensembles\n",
    "\n",
    "Este código tem por objetivo a resolução da tarefa em questão, que consiste na implementação de 3 algoritmos de classificação, sendo eles árvore de decisão, naïve Bayes e k-NN.  \n",
    "Instruções para o experimento:\n",
    "1. Utilize **subamostragem aleatória** com 5 repetições para cada algoritmo e apresente o erro de classificação **médio** de cada um (para os conjuntos de testes);\n",
    "2. Adote uma divisão de 70% dos dados para treinamento e 30% dos dados para teste;\n",
    "3. Faça a amostragem *antes* de iniciar o treinamento e use os mesmos dados para todos os algoritmos (em cada repetição);\n",
    "4. Para cada repetição, monte um **ensemble** com os classificadores já treinados (via voto majoritário), aplique ao conjunto de testes e apresente o desempenho médio.\n",
    "\n",
    "---"
   ]
  },
  {
   "cell_type": "markdown",
   "metadata": {},
   "source": [
    "#### 1) Importação das bibliotecas  \n",
    "Serão utilizados alguns pacotes para a implementação do código. São eles:\n",
    "- pandas: leitura dos arquivos\n",
    "- numpy, scipy: cálculo de algumas estatísticas\n",
    "- sklearn: modelo de classificação, separação dos dados entre treino e teste, transformação dos atributos categóricos para numéricos (caso necessário), matriz de confusão e avaliação do erro\n",
    "- graphviz, io, IPython e pydotplus: visualização da árvore\n",
    "- matplotly.pyplot e plotly: visualizações extras"
   ]
  },
  {
   "cell_type": "code",
   "execution_count": 1,
   "metadata": {
    "jupyter": {
     "source_hidden": true
    }
   },
   "outputs": [],
   "source": [
    "# Importação das Bibliotecas\n",
    "import pandas as pd\n",
    "import numpy as np\n",
    "from scipy import stats\n",
    "from sklearn import preprocessing\n",
    "from sklearn.model_selection import train_test_split\n",
    "from sklearn.preprocessing import LabelEncoder\n",
    "from sklearn.metrics import confusion_matrix, accuracy_score\n",
    "from sklearn.tree import DecisionTreeClassifier\n",
    "from sklearn.naive_bayes import GaussianNB\n",
    "from sklearn.neighbors import KNeighborsClassifier\n",
    "import graphviz\n",
    "from sklearn.tree import export_graphviz\n",
    "from io import StringIO\n",
    "from IPython.display import Image  \n",
    "import pydotplus\n",
    "import matplotlib.pyplot as plt\n",
    "import plotly.express as px"
   ]
  },
  {
   "cell_type": "markdown",
   "metadata": {},
   "source": [
    "#### 2) Criação do dataset\n",
    "Será gerado um objeto do tipo dataframe com a base de dados bupa.data, utilizando os nomes dos atributos disposíveis em bupa.names."
   ]
  },
  {
   "cell_type": "code",
   "execution_count": 2,
   "metadata": {
    "jupyter": {
     "source_hidden": true
    }
   },
   "outputs": [],
   "source": [
    "columns_names = [\n",
    "    'mcv',\n",
    "    'alkphos',\n",
    "    'sgpt',\n",
    "    'sgot',\n",
    "    'gammagt',\n",
    "    'drinks',\n",
    "    'selector'\n",
    "]"
   ]
  },
  {
   "cell_type": "code",
   "execution_count": 3,
   "metadata": {
    "jupyter": {
     "source_hidden": true
    }
   },
   "outputs": [
    {
     "data": {
      "text/html": [
       "<div>\n",
       "<style scoped>\n",
       "    .dataframe tbody tr th:only-of-type {\n",
       "        vertical-align: middle;\n",
       "    }\n",
       "\n",
       "    .dataframe tbody tr th {\n",
       "        vertical-align: top;\n",
       "    }\n",
       "\n",
       "    .dataframe thead th {\n",
       "        text-align: right;\n",
       "    }\n",
       "</style>\n",
       "<table border=\"1\" class=\"dataframe\">\n",
       "  <thead>\n",
       "    <tr style=\"text-align: right;\">\n",
       "      <th></th>\n",
       "      <th>mcv</th>\n",
       "      <th>alkphos</th>\n",
       "      <th>sgpt</th>\n",
       "      <th>sgot</th>\n",
       "      <th>gammagt</th>\n",
       "      <th>drinks</th>\n",
       "      <th>selector</th>\n",
       "    </tr>\n",
       "  </thead>\n",
       "  <tbody>\n",
       "    <tr>\n",
       "      <th>0</th>\n",
       "      <td>85</td>\n",
       "      <td>92</td>\n",
       "      <td>45</td>\n",
       "      <td>27</td>\n",
       "      <td>31</td>\n",
       "      <td>0.0</td>\n",
       "      <td>1</td>\n",
       "    </tr>\n",
       "    <tr>\n",
       "      <th>1</th>\n",
       "      <td>85</td>\n",
       "      <td>64</td>\n",
       "      <td>59</td>\n",
       "      <td>32</td>\n",
       "      <td>23</td>\n",
       "      <td>0.0</td>\n",
       "      <td>2</td>\n",
       "    </tr>\n",
       "    <tr>\n",
       "      <th>2</th>\n",
       "      <td>86</td>\n",
       "      <td>54</td>\n",
       "      <td>33</td>\n",
       "      <td>16</td>\n",
       "      <td>54</td>\n",
       "      <td>0.0</td>\n",
       "      <td>2</td>\n",
       "    </tr>\n",
       "    <tr>\n",
       "      <th>3</th>\n",
       "      <td>91</td>\n",
       "      <td>78</td>\n",
       "      <td>34</td>\n",
       "      <td>24</td>\n",
       "      <td>36</td>\n",
       "      <td>0.0</td>\n",
       "      <td>2</td>\n",
       "    </tr>\n",
       "    <tr>\n",
       "      <th>4</th>\n",
       "      <td>87</td>\n",
       "      <td>70</td>\n",
       "      <td>12</td>\n",
       "      <td>28</td>\n",
       "      <td>10</td>\n",
       "      <td>0.0</td>\n",
       "      <td>2</td>\n",
       "    </tr>\n",
       "    <tr>\n",
       "      <th>...</th>\n",
       "      <td>...</td>\n",
       "      <td>...</td>\n",
       "      <td>...</td>\n",
       "      <td>...</td>\n",
       "      <td>...</td>\n",
       "      <td>...</td>\n",
       "      <td>...</td>\n",
       "    </tr>\n",
       "    <tr>\n",
       "      <th>340</th>\n",
       "      <td>99</td>\n",
       "      <td>75</td>\n",
       "      <td>26</td>\n",
       "      <td>24</td>\n",
       "      <td>41</td>\n",
       "      <td>12.0</td>\n",
       "      <td>1</td>\n",
       "    </tr>\n",
       "    <tr>\n",
       "      <th>341</th>\n",
       "      <td>96</td>\n",
       "      <td>69</td>\n",
       "      <td>53</td>\n",
       "      <td>43</td>\n",
       "      <td>203</td>\n",
       "      <td>12.0</td>\n",
       "      <td>2</td>\n",
       "    </tr>\n",
       "    <tr>\n",
       "      <th>342</th>\n",
       "      <td>98</td>\n",
       "      <td>77</td>\n",
       "      <td>55</td>\n",
       "      <td>35</td>\n",
       "      <td>89</td>\n",
       "      <td>15.0</td>\n",
       "      <td>1</td>\n",
       "    </tr>\n",
       "    <tr>\n",
       "      <th>343</th>\n",
       "      <td>91</td>\n",
       "      <td>68</td>\n",
       "      <td>27</td>\n",
       "      <td>26</td>\n",
       "      <td>14</td>\n",
       "      <td>16.0</td>\n",
       "      <td>1</td>\n",
       "    </tr>\n",
       "    <tr>\n",
       "      <th>344</th>\n",
       "      <td>98</td>\n",
       "      <td>99</td>\n",
       "      <td>57</td>\n",
       "      <td>45</td>\n",
       "      <td>65</td>\n",
       "      <td>20.0</td>\n",
       "      <td>1</td>\n",
       "    </tr>\n",
       "  </tbody>\n",
       "</table>\n",
       "<p>345 rows × 7 columns</p>\n",
       "</div>"
      ],
      "text/plain": [
       "     mcv  alkphos  sgpt  sgot  gammagt  drinks  selector\n",
       "0     85       92    45    27       31     0.0         1\n",
       "1     85       64    59    32       23     0.0         2\n",
       "2     86       54    33    16       54     0.0         2\n",
       "3     91       78    34    24       36     0.0         2\n",
       "4     87       70    12    28       10     0.0         2\n",
       "..   ...      ...   ...   ...      ...     ...       ...\n",
       "340   99       75    26    24       41    12.0         1\n",
       "341   96       69    53    43      203    12.0         2\n",
       "342   98       77    55    35       89    15.0         1\n",
       "343   91       68    27    26       14    16.0         1\n",
       "344   98       99    57    45       65    20.0         1\n",
       "\n",
       "[345 rows x 7 columns]"
      ]
     },
     "execution_count": 3,
     "metadata": {},
     "output_type": "execute_result"
    }
   ],
   "source": [
    "# Criação do dataset\n",
    "dataset = pd.read_table(\"bupa.data\", sep = \",\", header = None, names = columns_names)\n",
    "dataset"
   ]
  },
  {
   "cell_type": "markdown",
   "metadata": {},
   "source": [
    "#### 3) Análise da base de dados\n",
    "Analisar o tipo dos dados da base (numéricos ou categóricos), se há valores faltantes, e se é necessário realizar alguma transformação prévia."
   ]
  },
  {
   "cell_type": "code",
   "execution_count": 4,
   "metadata": {
    "jupyter": {
     "source_hidden": true
    }
   },
   "outputs": [
    {
     "data": {
      "text/plain": [
       "(345, 7)"
      ]
     },
     "execution_count": 4,
     "metadata": {},
     "output_type": "execute_result"
    }
   ],
   "source": [
    "# Observando o tamanho da base de dados\n",
    "dataset.shape"
   ]
  },
  {
   "cell_type": "code",
   "execution_count": 5,
   "metadata": {
    "jupyter": {
     "source_hidden": true
    }
   },
   "outputs": [
    {
     "data": {
      "text/html": [
       "<div>\n",
       "<style scoped>\n",
       "    .dataframe tbody tr th:only-of-type {\n",
       "        vertical-align: middle;\n",
       "    }\n",
       "\n",
       "    .dataframe tbody tr th {\n",
       "        vertical-align: top;\n",
       "    }\n",
       "\n",
       "    .dataframe thead th {\n",
       "        text-align: right;\n",
       "    }\n",
       "</style>\n",
       "<table border=\"1\" class=\"dataframe\">\n",
       "  <thead>\n",
       "    <tr style=\"text-align: right;\">\n",
       "      <th></th>\n",
       "      <th>mcv</th>\n",
       "      <th>alkphos</th>\n",
       "      <th>sgpt</th>\n",
       "      <th>sgot</th>\n",
       "      <th>gammagt</th>\n",
       "      <th>drinks</th>\n",
       "      <th>selector</th>\n",
       "    </tr>\n",
       "  </thead>\n",
       "  <tbody>\n",
       "    <tr>\n",
       "      <th>count</th>\n",
       "      <td>345.000000</td>\n",
       "      <td>345.000000</td>\n",
       "      <td>345.000000</td>\n",
       "      <td>345.000000</td>\n",
       "      <td>345.000000</td>\n",
       "      <td>345.000000</td>\n",
       "      <td>345.000000</td>\n",
       "    </tr>\n",
       "    <tr>\n",
       "      <th>mean</th>\n",
       "      <td>90.159420</td>\n",
       "      <td>69.869565</td>\n",
       "      <td>30.405797</td>\n",
       "      <td>24.643478</td>\n",
       "      <td>38.284058</td>\n",
       "      <td>3.455072</td>\n",
       "      <td>1.579710</td>\n",
       "    </tr>\n",
       "    <tr>\n",
       "      <th>std</th>\n",
       "      <td>4.448096</td>\n",
       "      <td>18.347670</td>\n",
       "      <td>19.512309</td>\n",
       "      <td>10.064494</td>\n",
       "      <td>39.254616</td>\n",
       "      <td>3.337835</td>\n",
       "      <td>0.494322</td>\n",
       "    </tr>\n",
       "    <tr>\n",
       "      <th>min</th>\n",
       "      <td>65.000000</td>\n",
       "      <td>23.000000</td>\n",
       "      <td>4.000000</td>\n",
       "      <td>5.000000</td>\n",
       "      <td>5.000000</td>\n",
       "      <td>0.000000</td>\n",
       "      <td>1.000000</td>\n",
       "    </tr>\n",
       "    <tr>\n",
       "      <th>25%</th>\n",
       "      <td>87.000000</td>\n",
       "      <td>57.000000</td>\n",
       "      <td>19.000000</td>\n",
       "      <td>19.000000</td>\n",
       "      <td>15.000000</td>\n",
       "      <td>0.500000</td>\n",
       "      <td>1.000000</td>\n",
       "    </tr>\n",
       "    <tr>\n",
       "      <th>50%</th>\n",
       "      <td>90.000000</td>\n",
       "      <td>67.000000</td>\n",
       "      <td>26.000000</td>\n",
       "      <td>23.000000</td>\n",
       "      <td>25.000000</td>\n",
       "      <td>3.000000</td>\n",
       "      <td>2.000000</td>\n",
       "    </tr>\n",
       "    <tr>\n",
       "      <th>75%</th>\n",
       "      <td>93.000000</td>\n",
       "      <td>80.000000</td>\n",
       "      <td>34.000000</td>\n",
       "      <td>27.000000</td>\n",
       "      <td>46.000000</td>\n",
       "      <td>6.000000</td>\n",
       "      <td>2.000000</td>\n",
       "    </tr>\n",
       "    <tr>\n",
       "      <th>max</th>\n",
       "      <td>103.000000</td>\n",
       "      <td>138.000000</td>\n",
       "      <td>155.000000</td>\n",
       "      <td>82.000000</td>\n",
       "      <td>297.000000</td>\n",
       "      <td>20.000000</td>\n",
       "      <td>2.000000</td>\n",
       "    </tr>\n",
       "  </tbody>\n",
       "</table>\n",
       "</div>"
      ],
      "text/plain": [
       "              mcv     alkphos        sgpt        sgot     gammagt      drinks  \\\n",
       "count  345.000000  345.000000  345.000000  345.000000  345.000000  345.000000   \n",
       "mean    90.159420   69.869565   30.405797   24.643478   38.284058    3.455072   \n",
       "std      4.448096   18.347670   19.512309   10.064494   39.254616    3.337835   \n",
       "min     65.000000   23.000000    4.000000    5.000000    5.000000    0.000000   \n",
       "25%     87.000000   57.000000   19.000000   19.000000   15.000000    0.500000   \n",
       "50%     90.000000   67.000000   26.000000   23.000000   25.000000    3.000000   \n",
       "75%     93.000000   80.000000   34.000000   27.000000   46.000000    6.000000   \n",
       "max    103.000000  138.000000  155.000000   82.000000  297.000000   20.000000   \n",
       "\n",
       "         selector  \n",
       "count  345.000000  \n",
       "mean     1.579710  \n",
       "std      0.494322  \n",
       "min      1.000000  \n",
       "25%      1.000000  \n",
       "50%      2.000000  \n",
       "75%      2.000000  \n",
       "max      2.000000  "
      ]
     },
     "execution_count": 5,
     "metadata": {},
     "output_type": "execute_result"
    }
   ],
   "source": [
    "# Utilizando o método describe() para analisar a base de dados e validar se todos os atributos são numéricos\n",
    "dataset.describe()"
   ]
  },
  {
   "cell_type": "code",
   "execution_count": 6,
   "metadata": {
    "jupyter": {
     "source_hidden": true
    }
   },
   "outputs": [
    {
     "data": {
      "text/plain": [
       "[array([False]),\n",
       " array([False]),\n",
       " array([False]),\n",
       " array([False]),\n",
       " array([False]),\n",
       " array([False]),\n",
       " array([False])]"
      ]
     },
     "execution_count": 6,
     "metadata": {},
     "output_type": "execute_result"
    }
   ],
   "source": [
    "# Criando um vetor para verificar se há valores nulos\n",
    "null_array = [dataset.iloc[:, i].isnull().unique() for i in range(7)]\n",
    "null_array"
   ]
  },
  {
   "cell_type": "code",
   "execution_count": 7,
   "metadata": {
    "jupyter": {
     "source_hidden": true
    }
   },
   "outputs": [
    {
     "data": {
      "text/plain": [
       "[array([False]),\n",
       " array([False]),\n",
       " array([False]),\n",
       " array([False]),\n",
       " array([False]),\n",
       " array([False]),\n",
       " array([False])]"
      ]
     },
     "execution_count": 7,
     "metadata": {},
     "output_type": "execute_result"
    }
   ],
   "source": [
    "# Criando um vetor para verificar se há valores faltantes\n",
    "na_array = [dataset.iloc[:, i].isna().unique() for i in range(7)]\n",
    "na_array"
   ]
  },
  {
   "cell_type": "markdown",
   "metadata": {},
   "source": [
    "#### 4) Transformação da base de dados\n",
    "Classificar a coluna \"drinks\" de acordo com as informações do arquivo bupa.names, além de analisar a coluna \"selector\", avaliando se pode ser usada como divisor dos dados.\n",
    "- \"drinks\" 3 5 pode ser considerado um tipo de seleção na base de dados (de acordo com esse artigo: McDermott & Forsyth 2016, Diagnosing a disorder in a classification benchmark, Pattern Recognition Letters, Volume 73.)\n",
    "- \"selector\" divide a base de dados em uma determina proporção; será avaliada essa proporção, e se ela é satisfatória"
   ]
  },
  {
   "cell_type": "code",
   "execution_count": 8,
   "metadata": {
    "jupyter": {
     "source_hidden": true
    }
   },
   "outputs": [
    {
     "data": {
      "text/html": [
       "<div>\n",
       "<style scoped>\n",
       "    .dataframe tbody tr th:only-of-type {\n",
       "        vertical-align: middle;\n",
       "    }\n",
       "\n",
       "    .dataframe tbody tr th {\n",
       "        vertical-align: top;\n",
       "    }\n",
       "\n",
       "    .dataframe thead th {\n",
       "        text-align: right;\n",
       "    }\n",
       "</style>\n",
       "<table border=\"1\" class=\"dataframe\">\n",
       "  <thead>\n",
       "    <tr style=\"text-align: right;\">\n",
       "      <th></th>\n",
       "      <th>mcv</th>\n",
       "      <th>alkphos</th>\n",
       "      <th>sgpt</th>\n",
       "      <th>sgot</th>\n",
       "      <th>gammagt</th>\n",
       "      <th>drinks</th>\n",
       "      <th>selector</th>\n",
       "    </tr>\n",
       "  </thead>\n",
       "  <tbody>\n",
       "    <tr>\n",
       "      <th>0</th>\n",
       "      <td>85</td>\n",
       "      <td>92</td>\n",
       "      <td>45</td>\n",
       "      <td>27</td>\n",
       "      <td>31</td>\n",
       "      <td>0.0</td>\n",
       "      <td>1</td>\n",
       "    </tr>\n",
       "    <tr>\n",
       "      <th>1</th>\n",
       "      <td>85</td>\n",
       "      <td>64</td>\n",
       "      <td>59</td>\n",
       "      <td>32</td>\n",
       "      <td>23</td>\n",
       "      <td>0.0</td>\n",
       "      <td>2</td>\n",
       "    </tr>\n",
       "    <tr>\n",
       "      <th>2</th>\n",
       "      <td>86</td>\n",
       "      <td>54</td>\n",
       "      <td>33</td>\n",
       "      <td>16</td>\n",
       "      <td>54</td>\n",
       "      <td>0.0</td>\n",
       "      <td>2</td>\n",
       "    </tr>\n",
       "    <tr>\n",
       "      <th>3</th>\n",
       "      <td>91</td>\n",
       "      <td>78</td>\n",
       "      <td>34</td>\n",
       "      <td>24</td>\n",
       "      <td>36</td>\n",
       "      <td>0.0</td>\n",
       "      <td>2</td>\n",
       "    </tr>\n",
       "    <tr>\n",
       "      <th>4</th>\n",
       "      <td>87</td>\n",
       "      <td>70</td>\n",
       "      <td>12</td>\n",
       "      <td>28</td>\n",
       "      <td>10</td>\n",
       "      <td>0.0</td>\n",
       "      <td>2</td>\n",
       "    </tr>\n",
       "    <tr>\n",
       "      <th>...</th>\n",
       "      <td>...</td>\n",
       "      <td>...</td>\n",
       "      <td>...</td>\n",
       "      <td>...</td>\n",
       "      <td>...</td>\n",
       "      <td>...</td>\n",
       "      <td>...</td>\n",
       "    </tr>\n",
       "    <tr>\n",
       "      <th>340</th>\n",
       "      <td>99</td>\n",
       "      <td>75</td>\n",
       "      <td>26</td>\n",
       "      <td>24</td>\n",
       "      <td>41</td>\n",
       "      <td>1.0</td>\n",
       "      <td>1</td>\n",
       "    </tr>\n",
       "    <tr>\n",
       "      <th>341</th>\n",
       "      <td>96</td>\n",
       "      <td>69</td>\n",
       "      <td>53</td>\n",
       "      <td>43</td>\n",
       "      <td>203</td>\n",
       "      <td>1.0</td>\n",
       "      <td>2</td>\n",
       "    </tr>\n",
       "    <tr>\n",
       "      <th>342</th>\n",
       "      <td>98</td>\n",
       "      <td>77</td>\n",
       "      <td>55</td>\n",
       "      <td>35</td>\n",
       "      <td>89</td>\n",
       "      <td>1.0</td>\n",
       "      <td>1</td>\n",
       "    </tr>\n",
       "    <tr>\n",
       "      <th>343</th>\n",
       "      <td>91</td>\n",
       "      <td>68</td>\n",
       "      <td>27</td>\n",
       "      <td>26</td>\n",
       "      <td>14</td>\n",
       "      <td>1.0</td>\n",
       "      <td>1</td>\n",
       "    </tr>\n",
       "    <tr>\n",
       "      <th>344</th>\n",
       "      <td>98</td>\n",
       "      <td>99</td>\n",
       "      <td>57</td>\n",
       "      <td>45</td>\n",
       "      <td>65</td>\n",
       "      <td>1.0</td>\n",
       "      <td>1</td>\n",
       "    </tr>\n",
       "  </tbody>\n",
       "</table>\n",
       "<p>345 rows × 7 columns</p>\n",
       "</div>"
      ],
      "text/plain": [
       "     mcv  alkphos  sgpt  sgot  gammagt  drinks  selector\n",
       "0     85       92    45    27       31     0.0         1\n",
       "1     85       64    59    32       23     0.0         2\n",
       "2     86       54    33    16       54     0.0         2\n",
       "3     91       78    34    24       36     0.0         2\n",
       "4     87       70    12    28       10     0.0         2\n",
       "..   ...      ...   ...   ...      ...     ...       ...\n",
       "340   99       75    26    24       41     1.0         1\n",
       "341   96       69    53    43      203     1.0         2\n",
       "342   98       77    55    35       89     1.0         1\n",
       "343   91       68    27    26       14     1.0         1\n",
       "344   98       99    57    45       65     1.0         1\n",
       "\n",
       "[345 rows x 7 columns]"
      ]
     },
     "execution_count": 8,
     "metadata": {},
     "output_type": "execute_result"
    }
   ],
   "source": [
    "# Classificando a coluna \"drinks\"\n",
    "dataset.loc[dataset['drinks'] <= 3, 'drinks'] = 0\n",
    "dataset.loc[dataset['drinks'] > 3, 'drinks'] = 1\n",
    "dataset"
   ]
  },
  {
   "cell_type": "code",
   "execution_count": 9,
   "metadata": {
    "jupyter": {
     "source_hidden": true
    }
   },
   "outputs": [
    {
     "data": {
      "text/plain": [
       "selector\n",
       "1    145\n",
       "2    200\n",
       "dtype: int64"
      ]
     },
     "execution_count": 9,
     "metadata": {},
     "output_type": "execute_result"
    }
   ],
   "source": [
    "# Analisando a coluna \"selector\"\n",
    "dataset.groupby(['selector']).size()"
   ]
  },
  {
   "cell_type": "code",
   "execution_count": 10,
   "metadata": {
    "jupyter": {
     "source_hidden": true
    }
   },
   "outputs": [
    {
     "data": {
      "text/plain": [
       "0.42028985507246375"
      ]
     },
     "metadata": {},
     "output_type": "display_data"
    },
    {
     "data": {
      "text/plain": [
       "0.5797101449275363"
      ]
     },
     "metadata": {},
     "output_type": "display_data"
    }
   ],
   "source": [
    "# Porcentagem de cada divisão\n",
    "label_1 = 145/345\n",
    "label_2 = 200/345\n",
    "display(label_1)\n",
    "display(label_2)"
   ]
  },
  {
   "cell_type": "code",
   "execution_count": 11,
   "metadata": {
    "jupyter": {
     "source_hidden": true
    }
   },
   "outputs": [
    {
     "data": {
      "text/html": [
       "<div>\n",
       "<style scoped>\n",
       "    .dataframe tbody tr th:only-of-type {\n",
       "        vertical-align: middle;\n",
       "    }\n",
       "\n",
       "    .dataframe tbody tr th {\n",
       "        vertical-align: top;\n",
       "    }\n",
       "\n",
       "    .dataframe thead th {\n",
       "        text-align: right;\n",
       "    }\n",
       "</style>\n",
       "<table border=\"1\" class=\"dataframe\">\n",
       "  <thead>\n",
       "    <tr style=\"text-align: right;\">\n",
       "      <th></th>\n",
       "      <th>mcv</th>\n",
       "      <th>alkphos</th>\n",
       "      <th>sgpt</th>\n",
       "      <th>sgot</th>\n",
       "      <th>gammagt</th>\n",
       "      <th>drinks</th>\n",
       "    </tr>\n",
       "  </thead>\n",
       "  <tbody>\n",
       "    <tr>\n",
       "      <th>0</th>\n",
       "      <td>85</td>\n",
       "      <td>92</td>\n",
       "      <td>45</td>\n",
       "      <td>27</td>\n",
       "      <td>31</td>\n",
       "      <td>0.0</td>\n",
       "    </tr>\n",
       "    <tr>\n",
       "      <th>1</th>\n",
       "      <td>85</td>\n",
       "      <td>64</td>\n",
       "      <td>59</td>\n",
       "      <td>32</td>\n",
       "      <td>23</td>\n",
       "      <td>0.0</td>\n",
       "    </tr>\n",
       "    <tr>\n",
       "      <th>2</th>\n",
       "      <td>86</td>\n",
       "      <td>54</td>\n",
       "      <td>33</td>\n",
       "      <td>16</td>\n",
       "      <td>54</td>\n",
       "      <td>0.0</td>\n",
       "    </tr>\n",
       "    <tr>\n",
       "      <th>3</th>\n",
       "      <td>91</td>\n",
       "      <td>78</td>\n",
       "      <td>34</td>\n",
       "      <td>24</td>\n",
       "      <td>36</td>\n",
       "      <td>0.0</td>\n",
       "    </tr>\n",
       "    <tr>\n",
       "      <th>4</th>\n",
       "      <td>87</td>\n",
       "      <td>70</td>\n",
       "      <td>12</td>\n",
       "      <td>28</td>\n",
       "      <td>10</td>\n",
       "      <td>0.0</td>\n",
       "    </tr>\n",
       "    <tr>\n",
       "      <th>...</th>\n",
       "      <td>...</td>\n",
       "      <td>...</td>\n",
       "      <td>...</td>\n",
       "      <td>...</td>\n",
       "      <td>...</td>\n",
       "      <td>...</td>\n",
       "    </tr>\n",
       "    <tr>\n",
       "      <th>340</th>\n",
       "      <td>99</td>\n",
       "      <td>75</td>\n",
       "      <td>26</td>\n",
       "      <td>24</td>\n",
       "      <td>41</td>\n",
       "      <td>1.0</td>\n",
       "    </tr>\n",
       "    <tr>\n",
       "      <th>341</th>\n",
       "      <td>96</td>\n",
       "      <td>69</td>\n",
       "      <td>53</td>\n",
       "      <td>43</td>\n",
       "      <td>203</td>\n",
       "      <td>1.0</td>\n",
       "    </tr>\n",
       "    <tr>\n",
       "      <th>342</th>\n",
       "      <td>98</td>\n",
       "      <td>77</td>\n",
       "      <td>55</td>\n",
       "      <td>35</td>\n",
       "      <td>89</td>\n",
       "      <td>1.0</td>\n",
       "    </tr>\n",
       "    <tr>\n",
       "      <th>343</th>\n",
       "      <td>91</td>\n",
       "      <td>68</td>\n",
       "      <td>27</td>\n",
       "      <td>26</td>\n",
       "      <td>14</td>\n",
       "      <td>1.0</td>\n",
       "    </tr>\n",
       "    <tr>\n",
       "      <th>344</th>\n",
       "      <td>98</td>\n",
       "      <td>99</td>\n",
       "      <td>57</td>\n",
       "      <td>45</td>\n",
       "      <td>65</td>\n",
       "      <td>1.0</td>\n",
       "    </tr>\n",
       "  </tbody>\n",
       "</table>\n",
       "<p>345 rows × 6 columns</p>\n",
       "</div>"
      ],
      "text/plain": [
       "     mcv  alkphos  sgpt  sgot  gammagt  drinks\n",
       "0     85       92    45    27       31     0.0\n",
       "1     85       64    59    32       23     0.0\n",
       "2     86       54    33    16       54     0.0\n",
       "3     91       78    34    24       36     0.0\n",
       "4     87       70    12    28       10     0.0\n",
       "..   ...      ...   ...   ...      ...     ...\n",
       "340   99       75    26    24       41     1.0\n",
       "341   96       69    53    43      203     1.0\n",
       "342   98       77    55    35       89     1.0\n",
       "343   91       68    27    26       14     1.0\n",
       "344   98       99    57    45       65     1.0\n",
       "\n",
       "[345 rows x 6 columns]"
      ]
     },
     "execution_count": 11,
     "metadata": {},
     "output_type": "execute_result"
    }
   ],
   "source": [
    "# Como a proporção é diferente de 30% e 70%, a coluna \"selector\" será descartada do dataset.\n",
    "dataset.drop(columns = 'selector', inplace = True)\n",
    "columns_names.pop(-1)\n",
    "dataset"
   ]
  },
  {
   "cell_type": "markdown",
   "metadata": {},
   "source": [
    "#### 5) Divisão entre Classe e Atributos\n",
    "Definir dentro do dataset qual é a variável que será classificada, e quais são as variáveis preditoras."
   ]
  },
  {
   "cell_type": "code",
   "execution_count": 12,
   "metadata": {
    "jupyter": {
     "source_hidden": true
    }
   },
   "outputs": [],
   "source": [
    "# Definição das Classes\n",
    "classes = dataset['drinks']\n",
    "\n",
    "# Definição dos atributos\n",
    "attributes_names = [\n",
    "    'mcv',\n",
    "    'alkphos',\n",
    "    'sgpt',\n",
    "    'sgot',\n",
    "    'gammagt'\n",
    "]\n",
    "\n",
    "attributes = dataset[attributes_names]"
   ]
  },
  {
   "cell_type": "markdown",
   "metadata": {},
   "source": [
    "#### 6) Separação dos Dados\n",
    "Aqui, os dados serão separados em treinamento e teste. O parâmetro *test_size* será definido primeiramente como 0.2 (20%) de acordo com o enunciado da tarefa."
   ]
  },
  {
   "cell_type": "code",
   "execution_count": 13,
   "metadata": {
    "jupyter": {
     "source_hidden": true
    }
   },
   "outputs": [],
   "source": [
    "# Divisão da base de dados entre treinamento e teste. Random_state = 0 para sempre obter a mesma divisão da base quando o código for executado.\n",
    "x_train, x_test, y_train, y_test = train_test_split(attributes, classes, test_size = 0.3, random_state = 0)"
   ]
  },
  {
   "cell_type": "markdown",
   "metadata": {},
   "source": [
    "#### 7) Árvore de Decisão\n",
    "Criaçao de uma função que irá encapsular o processo de criação do modelo de árvore de decisão, retornando a classe prevista para cada instância e o erro de classificação do algoritmo."
   ]
  },
  {
   "cell_type": "code",
   "execution_count": 14,
   "metadata": {},
   "outputs": [],
   "source": [
    "# Serão utilizados como parâmetros da função os valores de x e y para teste e treinamento\n",
    "def decision_tree(x_train, x_test, y_train, y_test):\n",
    "    # Construção do modelo\n",
    "    tree = DecisionTreeClassifier()\n",
    "    tree.fit(x_train, y_train)\n",
    "    \n",
    "    # Obtenção das previsões\n",
    "    prediction = tree.predict(x_test)\n",
    "    \n",
    "    # Matriz de confusão\n",
    "    confusion = confusion_matrix(y_test, prediction)\n",
    "    \n",
    "    # Taxa acerto\n",
    "    accuracy = accuracy_score(y_test, prediction)\n",
    "\n",
    "    # Taxa erro\n",
    "    error = 1 - accuracy\n",
    "    \n",
    "    return prediction, error"
   ]
  },
  {
   "cell_type": "markdown",
   "metadata": {},
   "source": [
    "#### 8) Naïve Bayes\n",
    "Criaçao de uma função que irá encapsular o processo de criação do modelo de Naïve Bayes, retornando a classe prevista para cada instância e o erro de classificação do algoritmo."
   ]
  },
  {
   "cell_type": "code",
   "execution_count": 15,
   "metadata": {},
   "outputs": [],
   "source": [
    "# Serão utilizados como parâmetros da função os valores de x e y para teste e treinamento\n",
    "def naive_bayes(x_train, x_test, y_train, y_test):\n",
    "    # Construção do modelo\n",
    "    naive_bayes = GaussianNB()\n",
    "    naive_bayes.fit(x_train, y_train)\n",
    "    \n",
    "    # Obtenção das previsões\n",
    "    prediction = naive_bayes.predict(x_test)\n",
    "    \n",
    "    # Matriz de confusão\n",
    "    confusion = confusion_matrix(y_test, prediction)\n",
    "    \n",
    "    # Taxa acerto\n",
    "    accuracy = accuracy_score(y_test, prediction)\n",
    "\n",
    "    # Taxa erro\n",
    "    error = 1 - accuracy\n",
    "    \n",
    "    return prediction, error"
   ]
  },
  {
   "cell_type": "markdown",
   "metadata": {},
   "source": [
    "#### 9) k-NN\n",
    "Criaçao de uma função que irá encapsular o processo de criação do modelo de k-NN, retornando a classe prevista para cada instância e o erro de classificação do algoritmo."
   ]
  },
  {
   "cell_type": "code",
   "execution_count": 16,
   "metadata": {},
   "outputs": [],
   "source": [
    "# Serão utilizados como parâmetros da função os valores de x e y para teste e treinamento\n",
    "def k_nn(x_train, x_test, y_train, y_test):\n",
    "    # Construção do modelo\n",
    "    knn = KNeighborsClassifier(n_neighbors = 3)\n",
    "    knn.fit(x_train, y_train)\n",
    "    \n",
    "    # Obtenção das previsões\n",
    "    prediction = knn.predict(x_test)\n",
    "    \n",
    "    # Matriz de confusão\n",
    "    confusion = confusion_matrix(y_test, prediction)\n",
    "    \n",
    "    # Taxa acerto\n",
    "    accuracy = accuracy_score(y_test, prediction)\n",
    "\n",
    "    # Taxa erro\n",
    "    error = 1 - accuracy\n",
    "    \n",
    "    return prediction, error"
   ]
  },
  {
   "cell_type": "markdown",
   "metadata": {},
   "source": [
    "#### 10) Ensemble\n",
    "Criação de uma função que irá encapsular o processo de montagem de um Ensemble com os classificadores treinados (via voto majoritário)."
   ]
  },
  {
   "cell_type": "code",
   "execution_count": 17,
   "metadata": {},
   "outputs": [],
   "source": [
    "def ensemble(decision_tree, naive_bayes, k_nn, test_array):\n",
    "    # Coletando as previsões para cada um dos algoritmos e agrupando em tuplas\n",
    "    list_of_predictions = [(decision_tree[i], naive_bayes[i], k_nn[i]) for i in range(len(test_array))]\n",
    "    \n",
    "    # Encontrando a moda de cada tupla\n",
    "    prediction_list = [stats.mode(i)[0][0] for i in list_of_predictions]\n",
    "    \n",
    "    # Matriz de confusão\n",
    "    confusion = confusion_matrix(y_test, prediction_list)\n",
    "    \n",
    "    # Taxa acerto\n",
    "    accuracy = accuracy_score(y_test, prediction_list)\n",
    "\n",
    "    # Taxa erro\n",
    "    error = 1 - accuracy\n",
    "    \n",
    "    return error"
   ]
  },
  {
   "cell_type": "markdown",
   "metadata": {},
   "source": [
    "#### 11) Realização do Experimento\n",
    "O experimento consiste em 5 iterações para cada um dos algoritmos (incluindo o Ensemble), e avaliar o erro de classificação médio para cada um deles."
   ]
  },
  {
   "cell_type": "code",
   "execution_count": 18,
   "metadata": {},
   "outputs": [],
   "source": [
    "# Inicializando 4 vetores para armazenamento dos erros\n",
    "decision_tree_error = []\n",
    "naive_bayes_error = []\n",
    "k_nn_error = []\n",
    "ensemble_error = []\n",
    "\n",
    "# Criando um vetor de nomenclatura de linhas\n",
    "rows_names_error = [\n",
    "    'Árvore de Decisão',\n",
    "    'Naïve Bayes',\n",
    "    'k-NN',\n",
    "    'Ensemble'\n",
    "]\n",
    "\n",
    "# Criando um vetor de nomenclatura das coluna\n",
    "column_names_error = ['Erro de Classificação Médio']"
   ]
  },
  {
   "cell_type": "code",
   "execution_count": 19,
   "metadata": {},
   "outputs": [],
   "source": [
    "# Realização das iterações\n",
    "for i in range(5):\n",
    "    # Árvore de Decisão\n",
    "    experiment_decision_tree = decision_tree(x_train, x_test, y_train, y_test)\n",
    "    decision_tree_error.append(experiment_decision_tree[1])\n",
    "    \n",
    "    # Naïve Bayes\n",
    "    experiment_naive_bayes = naive_bayes(x_train, x_test, y_train, y_test)\n",
    "    naive_bayes_error.append(experiment_naive_bayes[1])\n",
    "    \n",
    "    # k-NN\n",
    "    experiment_k_nn = k_nn(x_train, x_test, y_train, y_test)\n",
    "    k_nn_error.append(experiment_k_nn[1])\n",
    "    \n",
    "    # Ensemble\n",
    "    experiment_ensemble_error = ensemble(experiment_decision_tree[0], experiment_naive_bayes[0], experiment_k_nn[0], y_test)\n",
    "    ensemble_error.append(experiment_ensemble_error)"
   ]
  },
  {
   "cell_type": "code",
   "execution_count": 20,
   "metadata": {},
   "outputs": [
    {
     "data": {
      "text/html": [
       "<div>\n",
       "<style scoped>\n",
       "    .dataframe tbody tr th:only-of-type {\n",
       "        vertical-align: middle;\n",
       "    }\n",
       "\n",
       "    .dataframe tbody tr th {\n",
       "        vertical-align: top;\n",
       "    }\n",
       "\n",
       "    .dataframe thead th {\n",
       "        text-align: right;\n",
       "    }\n",
       "</style>\n",
       "<table border=\"1\" class=\"dataframe\">\n",
       "  <thead>\n",
       "    <tr style=\"text-align: right;\">\n",
       "      <th></th>\n",
       "      <th>Erro de Classificação Médio</th>\n",
       "    </tr>\n",
       "  </thead>\n",
       "  <tbody>\n",
       "    <tr>\n",
       "      <th>Árvore de Decisão</th>\n",
       "      <td>0.450000</td>\n",
       "    </tr>\n",
       "    <tr>\n",
       "      <th>Naïve Bayes</th>\n",
       "      <td>0.326923</td>\n",
       "    </tr>\n",
       "    <tr>\n",
       "      <th>k-NN</th>\n",
       "      <td>0.346154</td>\n",
       "    </tr>\n",
       "    <tr>\n",
       "      <th>Ensemble</th>\n",
       "      <td>0.330769</td>\n",
       "    </tr>\n",
       "  </tbody>\n",
       "</table>\n",
       "</div>"
      ],
      "text/plain": [
       "                   Erro de Classificação Médio\n",
       "Árvore de Decisão                     0.450000\n",
       "Naïve Bayes                           0.326923\n",
       "k-NN                                  0.346154\n",
       "Ensemble                              0.330769"
      ]
     },
     "execution_count": 20,
     "metadata": {},
     "output_type": "execute_result"
    }
   ],
   "source": [
    "# Construção do vetor de respostas\n",
    "instances = [np.mean(decision_tree_error), np.mean(naive_bayes_error), np.mean(k_nn_error), np.mean(ensemble_error)]\n",
    "\n",
    "# Impressão das respostas\n",
    "results = pd.DataFrame(instances, index = rows_names_error, columns = column_names_error)\n",
    "results"
   ]
  }
 ],
 "metadata": {
  "kernelspec": {
   "display_name": "Python 3",
   "language": "python",
   "name": "python3"
  },
  "language_info": {
   "codemirror_mode": {
    "name": "ipython",
    "version": 3
   },
   "file_extension": ".py",
   "mimetype": "text/x-python",
   "name": "python",
   "nbconvert_exporter": "python",
   "pygments_lexer": "ipython3",
   "version": "3.8.5"
  }
 },
 "nbformat": 4,
 "nbformat_minor": 4
}
