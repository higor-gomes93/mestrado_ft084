{
 "cells": [
  {
   "cell_type": "markdown",
   "id": "1a2e2a0b-4a94-4025-b8e6-b4f9a9131dd2",
   "metadata": {},
   "source": [
    "## FT084 - Introdução a Mineração de Dados\n",
    "---\n",
    "### Tarefa 04: Regressão Múltipla  \n",
    "\n",
    "Este código tem por objetivo a resolução de uma das etapas da tarefa em questão, que consiste na implementação de um algoritmo de regressão múltipla, analisando algumas medidas e selecionando os melhores atributos.  \n",
    "Instruções para o experimento:\n",
    "1. Encontrar o melhor conjunto de atributos. Qual é o melhor modelo de acordo com as medidas Cp, BIC, and R2 ajustado? Mostre gráficos para dar suporte a sua resposta e mostre os coeficientes do melhor modelo.\n",
    "2. Repita o procedimento em (1), usando seleção progressiva e seleção regressiva. Como sua resposta agora se compara aos resultados do item (a)?\n",
    "3. Realize a seleção de variáveis e de modelos usando validação cruzada no conjunto de treino.\n",
    "4. Compare os modelos obtidos nos items (1), (2) e (3) no conjunto de teste. Qual deles é o melhor?\n",
    "\n",
    "---"
   ]
  },
  {
   "cell_type": "markdown",
   "id": "9f14b2f9-4c04-444b-9b27-05a70be0b9bb",
   "metadata": {},
   "source": [
    "#### 1) Importação das bibliotecas  \n",
    "Serão utilizados alguns pacotes para a implementação do código. São eles:\n",
    "- pandas: leitura dos arquivos\n",
    "- numpy, scipy: cálculo de algumas estatísticas\n",
    "- sklearn: modelo de regressão, separação dos dados entre treino e teste, transformação dos atributos categóricos para numéricos (caso necessário), matriz de confusão, avaliação do erro, validação cruzada\n",
    "- matplotly.pyplot e plotly: visualizações extras"
   ]
  },
  {
   "cell_type": "code",
   "execution_count": 31,
   "id": "2eec6113-1733-4b72-8ecf-6fec2d3b5bbd",
   "metadata": {},
   "outputs": [],
   "source": [
    "import pandas as pd\n",
    "import numpy as np\n",
    "from sklearn.datasets import load_boston\n",
    "import itertools\n",
    "import time\n",
    "import statsmodels.api as sm"
   ]
  },
  {
   "cell_type": "code",
   "execution_count": 80,
   "id": "faa4e147-3bf3-4481-928f-c5329908246f",
   "metadata": {},
   "outputs": [],
   "source": [
    "X, y = load_boston(return_X_y=True)\n",
    "columns = ['CRIM', 'ZN', 'INDUS', 'CHAS', 'NOX', 'RM', 'AGE', 'DIS', 'RAD', 'TAX', 'PTRATIO', 'B', 'LSTAT', 'MEDV']\n",
    "data = pd.DataFrame(X, columns = columns[0:13]).astype('float64')\n",
    "target = pd.DataFrame(y, columns = ['MEDV']).astype('float64')\n",
    "target = target['MEDV']\n",
    "dataset = pd.merge(data, target, left_index = True, right_index = True)"
   ]
  },
  {
   "cell_type": "code",
   "execution_count": 50,
   "id": "dc8e1979-31ad-4d75-bbcc-53494195f1a1",
   "metadata": {},
   "outputs": [],
   "source": [
    "def processSubset(feature_set):\n",
    "    # Fit model on feature_set and calculate RSS\n",
    "    model = sm.OLS(target,data[list(feature_set)])\n",
    "    regr = model.fit()\n",
    "    RSS = ((regr.predict(data[list(feature_set)]) - target) ** 2).sum()\n",
    "    return {\"model\":regr, \"RSS\":RSS}"
   ]
  },
  {
   "cell_type": "code",
   "execution_count": 82,
   "id": "03151cb0-29f6-4891-b934-d932783b159a",
   "metadata": {},
   "outputs": [],
   "source": [
    "def getBest(k):\n",
    "    \n",
    "    tic = time.time()\n",
    "    \n",
    "    results = []\n",
    "    \n",
    "    for combo in itertools.combinations(data.columns, k):\n",
    "        results.append(processSubset(combo))\n",
    "    \n",
    "    # Wrap everything up in a nice dataframe\n",
    "    models = pd.DataFrame(results)\n",
    "    \n",
    "    # Choose the model with the highest RSS\n",
    "    best_model = models.loc[models['RSS'].argmin()]\n",
    "    \n",
    "    toc = time.time()\n",
    "    print(\"Processed\", models.shape[0], \"models on\", k, \"predictors in\", (toc-tic), \"seconds.\")\n",
    "    \n",
    "    # Return the best model, along with some other useful information about the model\n",
    "    return best_model"
   ]
  },
  {
   "cell_type": "code",
   "execution_count": 83,
   "id": "e8fbff5e-4772-4d6e-8d7b-cd6a0e354ae3",
   "metadata": {},
   "outputs": [
    {
     "name": "stdout",
     "output_type": "stream",
     "text": [
      "Processed 13 models on 1 predictors in 0.02393484115600586 seconds.\n",
      "Processed 78 models on 2 predictors in 0.1216745376586914 seconds.\n",
      "Processed 286 models on 3 predictors in 0.4558987617492676 seconds.\n",
      "Processed 715 models on 4 predictors in 1.3281879425048828 seconds.\n",
      "Processed 1287 models on 5 predictors in 2.3591525554656982 seconds.\n",
      "Processed 1716 models on 6 predictors in 3.283313035964966 seconds.\n",
      "Processed 1716 models on 7 predictors in 3.2618613243103027 seconds.\n",
      "Processed 1287 models on 8 predictors in 2.5447583198547363 seconds.\n",
      "Processed 715 models on 9 predictors in 1.3763620853424072 seconds.\n",
      "Processed 286 models on 10 predictors in 0.5530359745025635 seconds.\n",
      "Processed 78 models on 11 predictors in 0.1520977020263672 seconds.\n",
      "Processed 13 models on 12 predictors in 0.06392788887023926 seconds.\n",
      "Total elapsed time: 15.605986833572388 seconds.\n"
     ]
    }
   ],
   "source": [
    "# Could take quite awhile to complete...\n",
    "\n",
    "models_best = pd.DataFrame(columns=[\"RSS\", \"model\"])\n",
    "\n",
    "tic = time.time()\n",
    "for i in range(1,13):\n",
    "    models_best.loc[i] = getBest(i)\n",
    "\n",
    "toc = time.time()\n",
    "print(\"Total elapsed time:\", (toc-tic), \"seconds.\")"
   ]
  },
  {
   "cell_type": "code",
   "execution_count": 84,
   "id": "3080f2e7-b57f-44b2-b7a4-c8c498854fe9",
   "metadata": {},
   "outputs": [
    {
     "data": {
      "text/html": [
       "<div>\n",
       "<style scoped>\n",
       "    .dataframe tbody tr th:only-of-type {\n",
       "        vertical-align: middle;\n",
       "    }\n",
       "\n",
       "    .dataframe tbody tr th {\n",
       "        vertical-align: top;\n",
       "    }\n",
       "\n",
       "    .dataframe thead th {\n",
       "        text-align: right;\n",
       "    }\n",
       "</style>\n",
       "<table border=\"1\" class=\"dataframe\">\n",
       "  <thead>\n",
       "    <tr style=\"text-align: right;\">\n",
       "      <th></th>\n",
       "      <th>RSS</th>\n",
       "      <th>model</th>\n",
       "    </tr>\n",
       "  </thead>\n",
       "  <tbody>\n",
       "    <tr>\n",
       "      <th>1</th>\n",
       "      <td>29555.781529</td>\n",
       "      <td>&lt;statsmodels.regression.linear_model.Regressio...</td>\n",
       "    </tr>\n",
       "    <tr>\n",
       "      <th>2</th>\n",
       "      <td>15444.934439</td>\n",
       "      <td>&lt;statsmodels.regression.linear_model.Regressio...</td>\n",
       "    </tr>\n",
       "    <tr>\n",
       "      <th>3</th>\n",
       "      <td>14343.626020</td>\n",
       "      <td>&lt;statsmodels.regression.linear_model.Regressio...</td>\n",
       "    </tr>\n",
       "    <tr>\n",
       "      <th>4</th>\n",
       "      <td>13555.583004</td>\n",
       "      <td>&lt;statsmodels.regression.linear_model.Regressio...</td>\n",
       "    </tr>\n",
       "    <tr>\n",
       "      <th>5</th>\n",
       "      <td>13161.006084</td>\n",
       "      <td>&lt;statsmodels.regression.linear_model.Regressio...</td>\n",
       "    </tr>\n",
       "    <tr>\n",
       "      <th>6</th>\n",
       "      <td>12895.173642</td>\n",
       "      <td>&lt;statsmodels.regression.linear_model.Regressio...</td>\n",
       "    </tr>\n",
       "    <tr>\n",
       "      <th>7</th>\n",
       "      <td>12701.148163</td>\n",
       "      <td>&lt;statsmodels.regression.linear_model.Regressio...</td>\n",
       "    </tr>\n",
       "    <tr>\n",
       "      <th>8</th>\n",
       "      <td>12538.094816</td>\n",
       "      <td>&lt;statsmodels.regression.linear_model.Regressio...</td>\n",
       "    </tr>\n",
       "    <tr>\n",
       "      <th>9</th>\n",
       "      <td>12439.049646</td>\n",
       "      <td>&lt;statsmodels.regression.linear_model.Regressio...</td>\n",
       "    </tr>\n",
       "    <tr>\n",
       "      <th>10</th>\n",
       "      <td>12264.742998</td>\n",
       "      <td>&lt;statsmodels.regression.linear_model.Regressio...</td>\n",
       "    </tr>\n",
       "    <tr>\n",
       "      <th>11</th>\n",
       "      <td>12235.022544</td>\n",
       "      <td>&lt;statsmodels.regression.linear_model.Regressio...</td>\n",
       "    </tr>\n",
       "    <tr>\n",
       "      <th>12</th>\n",
       "      <td>12228.144719</td>\n",
       "      <td>&lt;statsmodels.regression.linear_model.Regressio...</td>\n",
       "    </tr>\n",
       "  </tbody>\n",
       "</table>\n",
       "</div>"
      ],
      "text/plain": [
       "             RSS                                              model\n",
       "1   29555.781529  <statsmodels.regression.linear_model.Regressio...\n",
       "2   15444.934439  <statsmodels.regression.linear_model.Regressio...\n",
       "3   14343.626020  <statsmodels.regression.linear_model.Regressio...\n",
       "4   13555.583004  <statsmodels.regression.linear_model.Regressio...\n",
       "5   13161.006084  <statsmodels.regression.linear_model.Regressio...\n",
       "6   12895.173642  <statsmodels.regression.linear_model.Regressio...\n",
       "7   12701.148163  <statsmodels.regression.linear_model.Regressio...\n",
       "8   12538.094816  <statsmodels.regression.linear_model.Regressio...\n",
       "9   12439.049646  <statsmodels.regression.linear_model.Regressio...\n",
       "10  12264.742998  <statsmodels.regression.linear_model.Regressio...\n",
       "11  12235.022544  <statsmodels.regression.linear_model.Regressio...\n",
       "12  12228.144719  <statsmodels.regression.linear_model.Regressio..."
      ]
     },
     "execution_count": 84,
     "metadata": {},
     "output_type": "execute_result"
    }
   ],
   "source": [
    "models_best"
   ]
  },
  {
   "cell_type": "code",
   "execution_count": 86,
   "id": "64959645-e83c-43b1-bf43-e91c9c1477df",
   "metadata": {},
   "outputs": [
    {
     "name": "stdout",
     "output_type": "stream",
     "text": [
      "                                 OLS Regression Results                                \n",
      "=======================================================================================\n",
      "Dep. Variable:                   MEDV   R-squared (uncentered):                   0.959\n",
      "Model:                            OLS   Adj. R-squared (uncentered):              0.958\n",
      "Method:                 Least Squares   F-statistic:                              967.5\n",
      "Date:                Mon, 10 May 2021   Prob (F-statistic):                        0.00\n",
      "Time:                        22:10:06   Log-Likelihood:                         -1523.8\n",
      "No. Observations:                 506   AIC:                                      3072.\n",
      "Df Residuals:                     494   BIC:                                      3122.\n",
      "Df Model:                          12                                                  \n",
      "Covariance Type:            nonrobust                                                  \n",
      "==============================================================================\n",
      "                 coef    std err          t      P>|t|      [0.025      0.975]\n",
      "------------------------------------------------------------------------------\n",
      "CRIM          -0.0928      0.034     -2.701      0.007      -0.160      -0.025\n",
      "ZN             0.0488      0.014      3.412      0.001       0.021       0.077\n",
      "CHAS           2.8482      0.898      3.171      0.002       1.083       4.613\n",
      "NOX           -2.9275      3.222     -0.909      0.364      -9.258       3.403\n",
      "RM             5.9318      0.303     19.555      0.000       5.336       6.528\n",
      "AGE           -0.0073      0.014     -0.527      0.598      -0.034       0.020\n",
      "DIS           -0.9655      0.189     -5.099      0.000      -1.337      -0.593\n",
      "RAD            0.1723      0.064      2.687      0.007       0.046       0.298\n",
      "TAX           -0.0095      0.004     -2.693      0.007      -0.016      -0.003\n",
      "PTRATIO       -0.3930      0.109     -3.607      0.000      -0.607      -0.179\n",
      "B              0.0149      0.003      5.544      0.000       0.010       0.020\n",
      "LSTAT         -0.4165      0.051     -8.225      0.000      -0.516      -0.317\n",
      "==============================================================================\n",
      "Omnibus:                      204.123   Durbin-Watson:                   0.999\n",
      "Prob(Omnibus):                  0.000   Jarque-Bera (JB):             1374.966\n",
      "Skew:                           1.609   Prob(JB):                    2.69e-299\n",
      "Kurtosis:                      10.406   Cond. No.                     8.16e+03\n",
      "==============================================================================\n",
      "\n",
      "Notes:\n",
      "[1] R² is computed without centering (uncentered) since the model does not contain a constant.\n",
      "[2] Standard Errors assume that the covariance matrix of the errors is correctly specified.\n",
      "[3] The condition number is large, 8.16e+03. This might indicate that there are\n",
      "strong multicollinearity or other numerical problems.\n"
     ]
    }
   ],
   "source": [
    "print(models_best.loc[12, \"model\"].summary())"
   ]
  },
  {
   "cell_type": "code",
   "execution_count": 87,
   "id": "ff1526b4-5eb6-45ce-9c42-e4c5c3f09c41",
   "metadata": {},
   "outputs": [
    {
     "name": "stdout",
     "output_type": "stream",
     "text": [
      "Processed 13 models on 12 predictors in 0.029919147491455078 seconds.\n",
      "                                 OLS Regression Results                                \n",
      "=======================================================================================\n",
      "Dep. Variable:                   MEDV   R-squared (uncentered):                   0.959\n",
      "Model:                            OLS   Adj. R-squared (uncentered):              0.958\n",
      "Method:                 Least Squares   F-statistic:                              967.5\n",
      "Date:                Mon, 10 May 2021   Prob (F-statistic):                        0.00\n",
      "Time:                        22:14:22   Log-Likelihood:                         -1523.8\n",
      "No. Observations:                 506   AIC:                                      3072.\n",
      "Df Residuals:                     494   BIC:                                      3122.\n",
      "Df Model:                          12                                                  \n",
      "Covariance Type:            nonrobust                                                  \n",
      "==============================================================================\n",
      "                 coef    std err          t      P>|t|      [0.025      0.975]\n",
      "------------------------------------------------------------------------------\n",
      "CRIM          -0.0928      0.034     -2.701      0.007      -0.160      -0.025\n",
      "ZN             0.0488      0.014      3.412      0.001       0.021       0.077\n",
      "CHAS           2.8482      0.898      3.171      0.002       1.083       4.613\n",
      "NOX           -2.9275      3.222     -0.909      0.364      -9.258       3.403\n",
      "RM             5.9318      0.303     19.555      0.000       5.336       6.528\n",
      "AGE           -0.0073      0.014     -0.527      0.598      -0.034       0.020\n",
      "DIS           -0.9655      0.189     -5.099      0.000      -1.337      -0.593\n",
      "RAD            0.1723      0.064      2.687      0.007       0.046       0.298\n",
      "TAX           -0.0095      0.004     -2.693      0.007      -0.016      -0.003\n",
      "PTRATIO       -0.3930      0.109     -3.607      0.000      -0.607      -0.179\n",
      "B              0.0149      0.003      5.544      0.000       0.010       0.020\n",
      "LSTAT         -0.4165      0.051     -8.225      0.000      -0.516      -0.317\n",
      "==============================================================================\n",
      "Omnibus:                      204.123   Durbin-Watson:                   0.999\n",
      "Prob(Omnibus):                  0.000   Jarque-Bera (JB):             1374.966\n",
      "Skew:                           1.609   Prob(JB):                    2.69e-299\n",
      "Kurtosis:                      10.406   Cond. No.                     8.16e+03\n",
      "==============================================================================\n",
      "\n",
      "Notes:\n",
      "[1] R² is computed without centering (uncentered) since the model does not contain a constant.\n",
      "[2] Standard Errors assume that the covariance matrix of the errors is correctly specified.\n",
      "[3] The condition number is large, 8.16e+03. This might indicate that there are\n",
      "strong multicollinearity or other numerical problems.\n"
     ]
    }
   ],
   "source": [
    "print(getBest(12)[\"model\"].summary())"
   ]
  }
 ],
 "metadata": {
  "kernelspec": {
   "display_name": "Python 3",
   "language": "python",
   "name": "python3"
  },
  "language_info": {
   "codemirror_mode": {
    "name": "ipython",
    "version": 3
   },
   "file_extension": ".py",
   "mimetype": "text/x-python",
   "name": "python",
   "nbconvert_exporter": "python",
   "pygments_lexer": "ipython3",
   "version": "3.6.13"
  }
 },
 "nbformat": 4,
 "nbformat_minor": 5
}
