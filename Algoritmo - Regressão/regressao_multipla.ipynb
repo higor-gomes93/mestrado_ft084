{
 "cells": [
  {
   "cell_type": "markdown",
   "id": "1a2e2a0b-4a94-4025-b8e6-b4f9a9131dd2",
   "metadata": {},
   "source": [
    "## FT084 - Introdução a Mineração de Dados\n",
    "---\n",
    "### Tarefa 04: Regressão Múltipla  \n",
    "\n",
    "Este código tem por objetivo a resolução de uma das etapas da tarefa em questão, que consiste na implementação de um algoritmo de regressão múltipla, analisando algumas medidas e selecionando os melhores atributos.  \n",
    "Instruções para o experimento:\n",
    "1. Encontrar o melhor conjunto de atributos. Qual é o melhor modelo de acordo com as medidas Cp, BIC, and R2 ajustado? Mostre gráficos para dar suporte a sua resposta e mostre os coeficientes do melhor modelo.\n",
    "2. Repita o procedimento em (1), usando seleção progressiva e seleção regressiva. Como sua resposta agora se compara aos resultados do item (a)?\n",
    "3. Realize a seleção de variáveis e de modelos usando validação cruzada no conjunto de treino.\n",
    "4. Compare os modelos obtidos nos items (1), (2) e (3) no conjunto de teste. Qual deles é o melhor?\n",
    "\n",
    "---"
   ]
  },
  {
   "cell_type": "markdown",
   "id": "9f14b2f9-4c04-444b-9b27-05a70be0b9bb",
   "metadata": {},
   "source": [
    "#### 1) Importação das bibliotecas  \n",
    "Serão utilizados alguns pacotes para a implementação do código. São eles:\n",
    "- pandas: leitura dos arquivos\n",
    "- numpy, scipy: cálculo de algumas estatísticas\n",
    "- sklearn: modelo de regressão, separação dos dados entre treino e teste, transformação dos atributos categóricos para numéricos (caso necessário), matriz de confusão, avaliação do erro, validação cruzada, seleção de atributos\n",
    "- statsmodels: modelo de regressão\n",
    "- matplotly.pyplot e plotly: visualizações extras"
   ]
  },
  {
   "cell_type": "code",
   "execution_count": 1,
   "id": "2eec6113-1733-4b72-8ecf-6fec2d3b5bbd",
   "metadata": {},
   "outputs": [],
   "source": [
    "import pandas as pd\n",
    "import numpy as np\n",
    "from sklearn.datasets import load_boston\n",
    "from sklearn.linear_model import LinearRegression\n",
    "from sklearn.feature_selection import RFECV\n",
    "from sklearn.model_selection import cross_validate\n",
    "from sklearn.model_selection import train_test_split\n",
    "import time\n",
    "import itertools\n",
    "import statsmodels.api as sm\n",
    "import matplotlib.pyplot as plt"
   ]
  },
  {
   "cell_type": "markdown",
   "id": "538fcd5d-c790-4750-b733-75a26fa42371",
   "metadata": {},
   "source": [
    "#### 2) Criação do dataset\n",
    "Será gerado um objeto do tipo dataframe com a base de dados boston."
   ]
  },
  {
   "cell_type": "code",
   "execution_count": 2,
   "id": "faa4e147-3bf3-4481-928f-c5329908246f",
   "metadata": {},
   "outputs": [],
   "source": [
    "X, y = load_boston(return_X_y=True)\n",
    "columns = ['CRIM', 'ZN', 'INDUS', 'CHAS', 'NOX', 'RM', 'AGE', 'DIS', 'RAD', 'TAX', 'PTRATIO', 'B', 'LSTAT', 'MEDV']\n",
    "data = pd.DataFrame(X, columns = columns[0:13]).astype('float64')\n",
    "target = pd.DataFrame(y, columns = ['MEDV']).astype('float64')\n",
    "target = target['MEDV']\n",
    "dataset = pd.merge(data, target, left_index = True, right_index = True)"
   ]
  },
  {
   "cell_type": "markdown",
   "id": "fd1e4a11-dd51-44f5-90bb-f60c1dd94dc2",
   "metadata": {},
   "source": [
    "#### 3) Separação dos Dados\n",
    "Aqui, os dados serão separados em treinamento e teste. O parâmetro *test_size* será definido primeiramente como 0.197 (19,7%) de acordo com o enunciado da tarefa."
   ]
  },
  {
   "cell_type": "code",
   "execution_count": 49,
   "id": "cdcd42de-dbeb-47a4-af06-e8c0746ddf82",
   "metadata": {},
   "outputs": [],
   "source": [
    "# Divisão da base de dados entre treinamento e teste. Random_state = 0 para sempre obter a mesma divisão da base quando o código for executado.\n",
    "x_train, x_test, y_train, y_test = train_test_split(data, target, test_size = 0.197, random_state = 0)"
   ]
  },
  {
   "cell_type": "markdown",
   "id": "a19c9d5d-ebc1-4bd9-8f9e-b1386b20616a",
   "metadata": {},
   "source": [
    "#### 4) Escolha do total de atributos\n",
    "Será escrito um processo para, de forma iterativa, ir aumentando o número de atributos de 1 em 1 para analisar algumas métricas de cada modelo."
   ]
  },
  {
   "cell_type": "code",
   "execution_count": 51,
   "id": "dc8e1979-31ad-4d75-bbcc-53494195f1a1",
   "metadata": {},
   "outputs": [],
   "source": [
    "def processSubset(feature_set):\n",
    "    # Criar um modelo para cada número de feature_set e encontrar o RSS\n",
    "    model = sm.OLS(y_train,x_train[list(feature_set)])\n",
    "    regr = model.fit()\n",
    "    RSS = ((regr.predict(x_train[list(feature_set)]) - y_train) ** 2).sum()\n",
    "    return {\"model\":regr, \"RSS\":RSS}"
   ]
  },
  {
   "cell_type": "code",
   "execution_count": 52,
   "id": "03151cb0-29f6-4891-b934-d932783b159a",
   "metadata": {},
   "outputs": [],
   "source": [
    "def getBest(k):\n",
    "    \n",
    "    tic = time.time()\n",
    "    \n",
    "    results = []\n",
    "    \n",
    "    for combo in itertools.combinations(x_train.columns, k):\n",
    "        results.append(processSubset(combo))\n",
    "    \n",
    "    # Colocando num datafram\n",
    "    models = pd.DataFrame(results)\n",
    "    \n",
    "    # Escolhendo o modelo com o maior RSS\n",
    "    best_model = models.loc[models['RSS'].argmin()]\n",
    "    \n",
    "    toc = time.time()\n",
    "    print(\"Processed\", models.shape[0], \"models on\", k, \"predictors in\", (toc-tic), \"seconds.\")\n",
    "    \n",
    "    # Retorna o melhor modelo com algumas informações extras\n",
    "    return best_model"
   ]
  },
  {
   "cell_type": "code",
   "execution_count": 53,
   "id": "e8fbff5e-4772-4d6e-8d7b-cd6a0e354ae3",
   "metadata": {
    "collapsed": true,
    "jupyter": {
     "outputs_hidden": true
    },
    "tags": []
   },
   "outputs": [
    {
     "name": "stdout",
     "output_type": "stream",
     "text": [
      "Processed 13 models on 1 predictors in 0.025907278060913086 seconds.\n",
      "Processed 78 models on 2 predictors in 0.12816214561462402 seconds.\n",
      "Processed 286 models on 3 predictors in 0.48589301109313965 seconds.\n",
      "Processed 715 models on 4 predictors in 1.3499245643615723 seconds.\n",
      "Processed 1287 models on 5 predictors in 2.634397268295288 seconds.\n",
      "Processed 1716 models on 6 predictors in 3.4832825660705566 seconds.\n",
      "Processed 1716 models on 7 predictors in 3.5441250801086426 seconds.\n",
      "Processed 1287 models on 8 predictors in 2.6370198726654053 seconds.\n",
      "Processed 715 models on 9 predictors in 1.4463527202606201 seconds.\n",
      "Processed 286 models on 10 predictors in 0.5799648761749268 seconds.\n",
      "Processed 78 models on 11 predictors in 0.15907979011535645 seconds.\n",
      "Processed 13 models on 12 predictors in 0.026927947998046875 seconds.\n",
      "Total elapsed time: 16.580823183059692 seconds.\n"
     ]
    }
   ],
   "source": [
    "models_best = pd.DataFrame(columns=[\"RSS\", \"model\"])\n",
    "\n",
    "tic = time.time()\n",
    "for i in range(1,13):\n",
    "    models_best.loc[i] = getBest(i)\n",
    "\n",
    "toc = time.time()\n",
    "print(\"Total elapsed time:\", (toc-tic), \"seconds.\")"
   ]
  },
  {
   "cell_type": "code",
   "execution_count": 55,
   "id": "3080f2e7-b57f-44b2-b7a4-c8c498854fe9",
   "metadata": {
    "tags": []
   },
   "outputs": [
    {
     "data": {
      "text/html": [
       "<div>\n",
       "<style scoped>\n",
       "    .dataframe tbody tr th:only-of-type {\n",
       "        vertical-align: middle;\n",
       "    }\n",
       "\n",
       "    .dataframe tbody tr th {\n",
       "        vertical-align: top;\n",
       "    }\n",
       "\n",
       "    .dataframe thead th {\n",
       "        text-align: right;\n",
       "    }\n",
       "</style>\n",
       "<table border=\"1\" class=\"dataframe\">\n",
       "  <thead>\n",
       "    <tr style=\"text-align: right;\">\n",
       "      <th></th>\n",
       "      <th>RSS</th>\n",
       "      <th>model</th>\n",
       "    </tr>\n",
       "  </thead>\n",
       "  <tbody>\n",
       "    <tr>\n",
       "      <th>1</th>\n",
       "      <td>23775.333267</td>\n",
       "      <td>&lt;statsmodels.regression.linear_model.Regressio...</td>\n",
       "    </tr>\n",
       "    <tr>\n",
       "      <th>2</th>\n",
       "      <td>11659.109016</td>\n",
       "      <td>&lt;statsmodels.regression.linear_model.Regressio...</td>\n",
       "    </tr>\n",
       "    <tr>\n",
       "      <th>3</th>\n",
       "      <td>10371.515257</td>\n",
       "      <td>&lt;statsmodels.regression.linear_model.Regressio...</td>\n",
       "    </tr>\n",
       "    <tr>\n",
       "      <th>4</th>\n",
       "      <td>9642.805812</td>\n",
       "      <td>&lt;statsmodels.regression.linear_model.Regressio...</td>\n",
       "    </tr>\n",
       "    <tr>\n",
       "      <th>5</th>\n",
       "      <td>9432.856050</td>\n",
       "      <td>&lt;statsmodels.regression.linear_model.Regressio...</td>\n",
       "    </tr>\n",
       "    <tr>\n",
       "      <th>6</th>\n",
       "      <td>9268.303820</td>\n",
       "      <td>&lt;statsmodels.regression.linear_model.Regressio...</td>\n",
       "    </tr>\n",
       "    <tr>\n",
       "      <th>7</th>\n",
       "      <td>9145.697994</td>\n",
       "      <td>&lt;statsmodels.regression.linear_model.Regressio...</td>\n",
       "    </tr>\n",
       "    <tr>\n",
       "      <th>8</th>\n",
       "      <td>8977.857552</td>\n",
       "      <td>&lt;statsmodels.regression.linear_model.Regressio...</td>\n",
       "    </tr>\n",
       "    <tr>\n",
       "      <th>9</th>\n",
       "      <td>8875.779570</td>\n",
       "      <td>&lt;statsmodels.regression.linear_model.Regressio...</td>\n",
       "    </tr>\n",
       "    <tr>\n",
       "      <th>10</th>\n",
       "      <td>8803.727329</td>\n",
       "      <td>&lt;statsmodels.regression.linear_model.Regressio...</td>\n",
       "    </tr>\n",
       "    <tr>\n",
       "      <th>11</th>\n",
       "      <td>8783.582372</td>\n",
       "      <td>&lt;statsmodels.regression.linear_model.Regressio...</td>\n",
       "    </tr>\n",
       "    <tr>\n",
       "      <th>12</th>\n",
       "      <td>8781.748346</td>\n",
       "      <td>&lt;statsmodels.regression.linear_model.Regressio...</td>\n",
       "    </tr>\n",
       "  </tbody>\n",
       "</table>\n",
       "</div>"
      ],
      "text/plain": [
       "             RSS                                              model\n",
       "1   23775.333267  <statsmodels.regression.linear_model.Regressio...\n",
       "2   11659.109016  <statsmodels.regression.linear_model.Regressio...\n",
       "3   10371.515257  <statsmodels.regression.linear_model.Regressio...\n",
       "4    9642.805812  <statsmodels.regression.linear_model.Regressio...\n",
       "5    9432.856050  <statsmodels.regression.linear_model.Regressio...\n",
       "6    9268.303820  <statsmodels.regression.linear_model.Regressio...\n",
       "7    9145.697994  <statsmodels.regression.linear_model.Regressio...\n",
       "8    8977.857552  <statsmodels.regression.linear_model.Regressio...\n",
       "9    8875.779570  <statsmodels.regression.linear_model.Regressio...\n",
       "10   8803.727329  <statsmodels.regression.linear_model.Regressio...\n",
       "11   8783.582372  <statsmodels.regression.linear_model.Regressio...\n",
       "12   8781.748346  <statsmodels.regression.linear_model.Regressio..."
      ]
     },
     "execution_count": 55,
     "metadata": {},
     "output_type": "execute_result"
    }
   ],
   "source": [
    "# Imprimindo o dataframe com todos os melhores medelos para cada número de atributos\n",
    "models_best"
   ]
  },
  {
   "cell_type": "code",
   "execution_count": 8,
   "id": "64959645-e83c-43b1-bf43-e91c9c1477df",
   "metadata": {
    "collapsed": true,
    "jupyter": {
     "outputs_hidden": true
    },
    "tags": []
   },
   "outputs": [
    {
     "name": "stdout",
     "output_type": "stream",
     "text": [
      "                                 OLS Regression Results                                \n",
      "=======================================================================================\n",
      "Dep. Variable:                   MEDV   R-squared (uncentered):                   0.964\n",
      "Model:                            OLS   Adj. R-squared (uncentered):              0.963\n",
      "Method:                 Least Squares   F-statistic:                              865.9\n",
      "Date:                Wed, 12 May 2021   Prob (F-statistic):                   1.62e-273\n",
      "Time:                        21:29:53   Log-Likelihood:                         -1194.7\n",
      "No. Observations:                 404   AIC:                                      2413.\n",
      "Df Residuals:                     392   BIC:                                      2461.\n",
      "Df Model:                          12                                                  \n",
      "Covariance Type:            nonrobust                                                  \n",
      "==============================================================================\n",
      "                 coef    std err          t      P>|t|      [0.025      0.975]\n",
      "------------------------------------------------------------------------------\n",
      "CRIM          -0.1188      0.039     -3.070      0.002      -0.195      -0.043\n",
      "ZN             0.0456      0.015      2.994      0.003       0.016       0.076\n",
      "INDUS         -0.0236      0.064     -0.367      0.714      -0.150       0.103\n",
      "CHAS           2.4866      0.953      2.609      0.009       0.613       4.360\n",
      "RM             5.9808      0.286     20.887      0.000       5.418       6.544\n",
      "AGE           -0.0118      0.014     -0.823      0.411      -0.040       0.016\n",
      "DIS           -0.8419      0.209     -4.026      0.000      -1.253      -0.431\n",
      "RAD            0.1073      0.071      1.511      0.132      -0.032       0.247\n",
      "TAX           -0.0082      0.004     -2.024      0.044      -0.016      -0.000\n",
      "PTRATIO       -0.5044      0.119     -4.253      0.000      -0.738      -0.271\n",
      "B              0.0142      0.003      4.804      0.000       0.008       0.020\n",
      "LSTAT         -0.3686      0.052     -7.104      0.000      -0.471      -0.267\n",
      "==============================================================================\n",
      "Omnibus:                      181.240   Durbin-Watson:                   1.991\n",
      "Prob(Omnibus):                  0.000   Jarque-Bera (JB):             1476.258\n",
      "Skew:                           1.711   Prob(JB):                         0.00\n",
      "Kurtosis:                      11.718   Cond. No.                     2.26e+03\n",
      "==============================================================================\n",
      "\n",
      "Notes:\n",
      "[1] R² is computed without centering (uncentered) since the model does not contain a constant.\n",
      "[2] Standard Errors assume that the covariance matrix of the errors is correctly specified.\n",
      "[3] The condition number is large, 2.26e+03. This might indicate that there are\n",
      "strong multicollinearity or other numerical problems.\n"
     ]
    }
   ],
   "source": [
    "print(models_best.loc[12, \"model\"].summary())"
   ]
  },
  {
   "cell_type": "code",
   "execution_count": 9,
   "id": "ff1526b4-5eb6-45ce-9c42-e4c5c3f09c41",
   "metadata": {
    "collapsed": true,
    "jupyter": {
     "outputs_hidden": true
    },
    "tags": []
   },
   "outputs": [
    {
     "name": "stdout",
     "output_type": "stream",
     "text": [
      "Processed 13 models on 12 predictors in 0.02991938591003418 seconds.\n",
      "                                 OLS Regression Results                                \n",
      "=======================================================================================\n",
      "Dep. Variable:                   MEDV   R-squared (uncentered):                   0.964\n",
      "Model:                            OLS   Adj. R-squared (uncentered):              0.963\n",
      "Method:                 Least Squares   F-statistic:                              865.9\n",
      "Date:                Wed, 12 May 2021   Prob (F-statistic):                   1.62e-273\n",
      "Time:                        21:29:53   Log-Likelihood:                         -1194.7\n",
      "No. Observations:                 404   AIC:                                      2413.\n",
      "Df Residuals:                     392   BIC:                                      2461.\n",
      "Df Model:                          12                                                  \n",
      "Covariance Type:            nonrobust                                                  \n",
      "==============================================================================\n",
      "                 coef    std err          t      P>|t|      [0.025      0.975]\n",
      "------------------------------------------------------------------------------\n",
      "CRIM          -0.1188      0.039     -3.070      0.002      -0.195      -0.043\n",
      "ZN             0.0456      0.015      2.994      0.003       0.016       0.076\n",
      "INDUS         -0.0236      0.064     -0.367      0.714      -0.150       0.103\n",
      "CHAS           2.4866      0.953      2.609      0.009       0.613       4.360\n",
      "RM             5.9808      0.286     20.887      0.000       5.418       6.544\n",
      "AGE           -0.0118      0.014     -0.823      0.411      -0.040       0.016\n",
      "DIS           -0.8419      0.209     -4.026      0.000      -1.253      -0.431\n",
      "RAD            0.1073      0.071      1.511      0.132      -0.032       0.247\n",
      "TAX           -0.0082      0.004     -2.024      0.044      -0.016      -0.000\n",
      "PTRATIO       -0.5044      0.119     -4.253      0.000      -0.738      -0.271\n",
      "B              0.0142      0.003      4.804      0.000       0.008       0.020\n",
      "LSTAT         -0.3686      0.052     -7.104      0.000      -0.471      -0.267\n",
      "==============================================================================\n",
      "Omnibus:                      181.240   Durbin-Watson:                   1.991\n",
      "Prob(Omnibus):                  0.000   Jarque-Bera (JB):             1476.258\n",
      "Skew:                           1.711   Prob(JB):                         0.00\n",
      "Kurtosis:                      11.718   Cond. No.                     2.26e+03\n",
      "==============================================================================\n",
      "\n",
      "Notes:\n",
      "[1] R² is computed without centering (uncentered) since the model does not contain a constant.\n",
      "[2] Standard Errors assume that the covariance matrix of the errors is correctly specified.\n",
      "[3] The condition number is large, 2.26e+03. This might indicate that there are\n",
      "strong multicollinearity or other numerical problems.\n"
     ]
    }
   ],
   "source": [
    "print(getBest(12)[\"model\"].summary())"
   ]
  },
  {
   "cell_type": "code",
   "execution_count": 61,
   "id": "274c1529-275e-4115-afb1-badee0278ca6",
   "metadata": {},
   "outputs": [
    {
     "data": {
      "text/plain": [
       "Text(0, 0.5, 'BIC')"
      ]
     },
     "execution_count": 61,
     "metadata": {},
     "output_type": "execute_result"
    },
    {
     "data": {
      "image/png": "[encoded data removed]",
      "text/plain": [
       "<Figure size 1440x720 with 4 Axes>"
      ]
     },
     "metadata": {
      "needs_background": "light"
     },
     "output_type": "display_data"
    }
   ],
   "source": [
    "# Imprimindo 4 métricas para análise\n",
    "\n",
    "plt.figure(figsize=(20,10))\n",
    "plt.rcParams.update({'font.size': 18, 'lines.markersize': 10})\n",
    "\n",
    "plt.subplot(2, 2, 1)\n",
    "\n",
    "\n",
    "plt.plot(models_best[\"RSS\"])\n",
    "plt.plot(models_best[\"RSS\"].argmin(), models_best[\"RSS\"].min(), \"or\")\n",
    "plt.xlabel('# Predictors')\n",
    "plt.ylabel('RSS')\n",
    "\n",
    "\n",
    "rsquared_adj = models_best.apply(lambda row: row[1].rsquared_adj, axis=1)\n",
    "\n",
    "plt.subplot(2, 2, 2)\n",
    "plt.plot(rsquared_adj)\n",
    "plt.plot(rsquared_adj.argmax(), rsquared_adj.max(), \"or\")\n",
    "plt.xlabel('# Predictors')\n",
    "plt.ylabel('adjusted rsquared')\n",
    "\n",
    "\n",
    "aic = models_best.apply(lambda row: row[1].aic, axis=1)\n",
    "m = len(y_train)\n",
    "p = 12\n",
    "hat_sigma_squared = (1/(m - p -1)) * min(models_best[\"RSS\"])\n",
    "cp = (1/m) * (models_best[\"RSS\"] + 2 * 406 * hat_sigma_squared )\n",
    "\n",
    "plt.subplot(2, 2, 3)\n",
    "plt.plot(cp)\n",
    "plt.plot(cp.argmin(), cp.min(), \"or\")\n",
    "plt.xlabel('# Predictors')\n",
    "plt.ylabel('Cp')\n",
    "\n",
    "bic = models_best.apply(lambda row: row[1].bic, axis=1)\n",
    "\n",
    "plt.subplot(2, 2, 4)\n",
    "plt.plot(bic)\n",
    "plt.plot(bic.argmin(), bic.min(), \"or\")\n",
    "plt.xlabel('# Predictors')\n",
    "plt.ylabel('BIC')"
   ]
  },
  {
   "cell_type": "markdown",
   "id": "7177f77a-428b-4e11-ade0-7a5ed8e75c2c",
   "metadata": {},
   "source": [
    "#### 5) Escolha do total de atributos com seleção progressiva e regressiva\n",
    "Será escrito um processo para a seleção de atributos de acordo com as duas maneiras."
   ]
  },
  {
   "cell_type": "code",
   "execution_count": 57,
   "id": "516b4c1f-54d4-4b86-b2a3-b5ad9be5049c",
   "metadata": {},
   "outputs": [],
   "source": [
    "def forward(predictors):\n",
    "\n",
    "    remaining_predictors = [p for p in x_train.columns if p not in predictors]\n",
    "    \n",
    "    tic = time.time()\n",
    "    \n",
    "    results = []\n",
    "    \n",
    "    for p in remaining_predictors:\n",
    "        results.append(processSubset(predictors+[p]))\n",
    "    \n",
    "    models = pd.DataFrame(results)\n",
    "    \n",
    "    best_model = models.loc[models['RSS'].argmin()]\n",
    "    \n",
    "    toc = time.time()\n",
    "    print(\"Processed \", models.shape[0], \"models on\", len(predictors)+1, \"predictors in\", (toc-tic), \"seconds.\")\n",
    "    \n",
    "    return best_model"
   ]
  },
  {
   "cell_type": "code",
   "execution_count": 58,
   "id": "a94cdffb-65df-486a-869f-ba63d0bcef20",
   "metadata": {
    "tags": []
   },
   "outputs": [
    {
     "name": "stdout",
     "output_type": "stream",
     "text": [
      "Processed  13 models on 1 predictors in 0.025931596755981445 seconds.\n",
      "Processed  12 models on 2 predictors in 0.022938013076782227 seconds.\n",
      "Processed  11 models on 3 predictors in 0.025931119918823242 seconds.\n",
      "Processed  10 models on 4 predictors in 0.019947052001953125 seconds.\n",
      "Processed  9 models on 5 predictors in 0.01595759391784668 seconds.\n",
      "Processed  8 models on 6 predictors in 0.014960289001464844 seconds.\n",
      "Processed  7 models on 7 predictors in 0.012966394424438477 seconds.\n",
      "Processed  6 models on 8 predictors in 0.010970830917358398 seconds.\n",
      "Processed  5 models on 9 predictors in 0.009972810745239258 seconds.\n",
      "Processed  4 models on 10 predictors in 0.007978677749633789 seconds.\n",
      "Processed  3 models on 11 predictors in 0.0069811344146728516 seconds.\n",
      "Processed  2 models on 12 predictors in 0.004986763000488281 seconds.\n",
      "Processed  1 models on 13 predictors in 0.0029921531677246094 seconds.\n",
      "Total elapsed time: 0.20844221115112305 seconds.\n"
     ]
    }
   ],
   "source": [
    "models_fwd = pd.DataFrame(columns=[\"RSS\", \"model\"])\n",
    "\n",
    "tic = time.time()\n",
    "predictors = []\n",
    "\n",
    "for i in range(1,len(x_train.columns)+1):    \n",
    "    models_fwd.loc[i] = forward(predictors)\n",
    "    predictors = models_fwd.loc[i][\"model\"].model.exog_names\n",
    "\n",
    "toc = time.time()\n",
    "print(\"Total elapsed time:\", (toc-tic), \"seconds.\")"
   ]
  },
  {
   "cell_type": "code",
   "execution_count": 59,
   "id": "e47b8134-bee4-4741-8012-e90f5eaca370",
   "metadata": {},
   "outputs": [],
   "source": [
    "def backward(predictors):\n",
    "    \n",
    "    tic = time.time()\n",
    "    \n",
    "    results = []\n",
    "    \n",
    "    for combo in itertools.combinations(predictors, len(predictors)-1):\n",
    "        results.append(processSubset(combo))\n",
    "    \n",
    "    models = pd.DataFrame(results)\n",
    "    \n",
    "    best_model = models.loc[models['RSS'].argmin()]\n",
    "    \n",
    "    toc = time.time()\n",
    "    \n",
    "    print(\"Processed \", models.shape[0], \"models on\", len(predictors)-1, \"predictors in\", (toc-tic), \"seconds.\")\n",
    "    \n",
    "    return best_model"
   ]
  },
  {
   "cell_type": "code",
   "execution_count": 15,
   "id": "34695dc9-69cc-4a62-b38b-986ed2464803",
   "metadata": {
    "tags": []
   },
   "outputs": [
    {
     "name": "stdout",
     "output_type": "stream",
     "text": [
      "Processed  13 models on 12 predictors in 0.02991962432861328 seconds.\n",
      "Processed  12 models on 11 predictors in 0.025931119918823242 seconds.\n",
      "Processed  11 models on 10 predictors in 0.023935794830322266 seconds.\n",
      "Processed  10 models on 9 predictors in 0.021941661834716797 seconds.\n",
      "Processed  9 models on 8 predictors in 0.018949270248413086 seconds.\n",
      "Processed  8 models on 7 predictors in 0.015957355499267578 seconds.\n",
      "Processed  7 models on 6 predictors in 0.014959573745727539 seconds.\n",
      "Processed  6 models on 5 predictors in 0.011967658996582031 seconds.\n",
      "Processed  5 models on 4 predictors in 0.013964176177978516 seconds.\n",
      "Processed  4 models on 3 predictors in 0.016953706741333008 seconds.\n",
      "Processed  3 models on 2 predictors in 0.009973764419555664 seconds.\n",
      "Processed  2 models on 1 predictors in 0.005984306335449219 seconds.\n",
      "Total elapsed time: 0.21741914749145508 seconds.\n"
     ]
    }
   ],
   "source": [
    "models_bwd = pd.DataFrame(columns=[\"RSS\", \"model\"], index = range(1,len(x_train.columns)))\n",
    "\n",
    "tic = time.time()\n",
    "predictors = x_train.columns\n",
    "\n",
    "while(len(predictors) > 1):  \n",
    "    models_bwd.loc[len(predictors)-1] = backward(predictors)\n",
    "    predictors = models_bwd.loc[len(predictors)-1][\"model\"].model.exog_names\n",
    "\n",
    "toc = time.time()\n",
    "print(\"Total elapsed time:\", (toc-tic), \"seconds.\")"
   ]
  },
  {
   "cell_type": "markdown",
   "id": "9b574112-1e35-491a-945b-cf8919b18ff8",
   "metadata": {},
   "source": [
    "#### 6) Impressão dos Resultados\n",
    "Imprimindo qual é o melhor conjunto de atributos de acordo com cada uma das técnicas"
   ]
  },
  {
   "cell_type": "code",
   "execution_count": 68,
   "id": "6a69255b-7446-4fbe-92b6-908c002dd445",
   "metadata": {
    "tags": []
   },
   "outputs": [
    {
     "name": "stdout",
     "output_type": "stream",
     "text": [
      "------------\n",
      "Melhor conjunto de atributos:\n",
      "------------\n",
      "CRIM      -0.119332\n",
      "ZN         0.040026\n",
      "CHAS       2.598726\n",
      "RM         5.806024\n",
      "DIS       -0.593451\n",
      "PTRATIO   -0.635027\n",
      "B          0.014117\n",
      "LSTAT     -0.423435\n",
      "dtype: float64\n"
     ]
    }
   ],
   "source": [
    "print(\"------------\")\n",
    "print(\"Melhor conjunto de atributos:\")\n",
    "print(\"------------\")\n",
    "print(models_best.loc[8, \"model\"].params)"
   ]
  },
  {
   "cell_type": "code",
   "execution_count": 69,
   "id": "268dcb64-a8b4-4209-abb2-7aed251c352b",
   "metadata": {
    "tags": []
   },
   "outputs": [
    {
     "name": "stdout",
     "output_type": "stream",
     "text": [
      "-----------------\n",
      "Seleção progressiva:\n",
      "-----------------\n",
      "RM         5.806024\n",
      "LSTAT     -0.423435\n",
      "PTRATIO   -0.635027\n",
      "B          0.014117\n",
      "CHAS       2.598726\n",
      "CRIM      -0.119332\n",
      "DIS       -0.593451\n",
      "ZN         0.040026\n",
      "dtype: float64\n"
     ]
    }
   ],
   "source": [
    "print(\"-----------------\")\n",
    "print(\"Seleção progressiva:\")\n",
    "print(\"-----------------\")\n",
    "print(models_fwd.loc[8, \"model\"].params)"
   ]
  },
  {
   "cell_type": "code",
   "execution_count": 70,
   "id": "34889634-2982-41a9-bf35-d4e2cfadb4c8",
   "metadata": {
    "tags": []
   },
   "outputs": [
    {
     "name": "stdout",
     "output_type": "stream",
     "text": [
      "-------------------\n",
      "Seleção regressiva:\n",
      "-------------------\n",
      "CRIM      -0.119960\n",
      "ZN         0.040604\n",
      "CHAS       2.598873\n",
      "RM         5.800148\n",
      "DIS       -0.601618\n",
      "PTRATIO   -0.631380\n",
      "B          0.014119\n",
      "LSTAT     -0.423829\n",
      "dtype: float64\n"
     ]
    }
   ],
   "source": [
    "print(\"-------------------\")\n",
    "print(\"Seleção regressiva:\")\n",
    "print(\"-------------------\")\n",
    "print(models_bwd.loc[8, \"model\"].params)"
   ]
  },
  {
   "cell_type": "markdown",
   "id": "69b6e64c-7979-42ec-a75f-cc8e1f94bd82",
   "metadata": {},
   "source": [
    "#### 7) Validação Cruzada\n",
    "Seleção dos atributos e dos modelos"
   ]
  },
  {
   "cell_type": "code",
   "execution_count": 65,
   "id": "97c5bf9e-4a94-49c1-84dc-c07449b4962d",
   "metadata": {},
   "outputs": [
    {
     "data": {
      "text/plain": [
       "LinearRegression()"
      ]
     },
     "execution_count": 65,
     "metadata": {},
     "output_type": "execute_result"
    }
   ],
   "source": [
    "# Criação do modelo\n",
    "model = LinearRegression()\n",
    "model.fit(x_train, y_train)"
   ]
  },
  {
   "cell_type": "code",
   "execution_count": 66,
   "id": "e390e36c-6808-46d9-8a1b-b411124868ab",
   "metadata": {},
   "outputs": [
    {
     "data": {
      "text/plain": [
       "array([ True,  True,  True,  True,  True,  True, False,  True,  True,\n",
       "        True,  True, False,  True])"
      ]
     },
     "execution_count": 66,
     "metadata": {},
     "output_type": "execute_result"
    }
   ],
   "source": [
    "# Validação cruzada para seleção de atributos\n",
    "selector = RFECV(model, step=1, cv=12)\n",
    "selector = selector.fit(x_train,y_train)\n",
    "selector.support_"
   ]
  },
  {
   "cell_type": "code",
   "execution_count": 67,
   "id": "44fe3a14-640f-4a24-9f45-b77d6e02d8c3",
   "metadata": {
    "tags": []
   },
   "outputs": [
    {
     "data": {
      "text/plain": [
       "{'fit_time': array([0.00296736, 0.00299263, 0.00299191, 0.0019927 , 0.00199461]),\n",
       " 'score_time': array([0.00099707, 0.00199461, 0.00199652, 0.00199413, 0.00099754]),\n",
       " 'estimator': (LinearRegression(),\n",
       "  LinearRegression(),\n",
       "  LinearRegression(),\n",
       "  LinearRegression(),\n",
       "  LinearRegression()),\n",
       " 'test_score': array([0.77374312, 0.69791896, 0.76359578, 0.68157902, 0.81979081])}"
      ]
     },
     "execution_count": 67,
     "metadata": {},
     "output_type": "execute_result"
    }
   ],
   "source": [
    "# Validação cruzada para seleção do modelo\n",
    "cv_results = cross_validate(model, x_train, y_train, return_estimator = True)\n",
    "cv_results"
   ]
  }
 ],
 "metadata": {
  "kernelspec": {
   "display_name": "Python 3",
   "language": "python",
   "name": "python3"
  },
  "language_info": {
   "codemirror_mode": {
    "name": "ipython",
    "version": 3
   },
   "file_extension": ".py",
   "mimetype": "text/x-python",
   "name": "python",
   "nbconvert_exporter": "python",
   "pygments_lexer": "ipython3",
   "version": "3.6.13"
  }
 },
 "nbformat": 4,
 "nbformat_minor": 5
}
