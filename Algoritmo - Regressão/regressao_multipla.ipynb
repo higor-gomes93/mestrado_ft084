{
 "cells": [
  {
   "cell_type": "markdown",
   "id": "1a2e2a0b-4a94-4025-b8e6-b4f9a9131dd2",
   "metadata": {},
   "source": [
    "## FT084 - Introdução a Mineração de Dados\n",
    "---\n",
    "### Tarefa 04: Regressão Múltipla  \n",
    "\n",
    "Este código tem por objetivo a resolução de uma das etapas da tarefa em questão, que consiste na implementação de um algoritmo de regressão múltipla, analisando algumas medidas e selecionando os melhores atributos.  \n",
    "Instruções para o experimento:\n",
    "1. Encontrar o melhor conjunto de atributos. Qual é o melhor modelo de acordo com as medidas Cp, BIC, and R2 ajustado? Mostre gráficos para dar suporte a sua resposta e mostre os coeficientes do melhor modelo.\n",
    "2. Repita o procedimento em (1), usando seleção progressiva e seleção regressiva. Como sua resposta agora se compara aos resultados do item (a)?\n",
    "3. Realize a seleção de variáveis e de modelos usando validação cruzada no conjunto de treino.\n",
    "4. Compare os modelos obtidos nos items (1), (2) e (3) no conjunto de teste. Qual deles é o melhor?\n",
    "\n",
    "---"
   ]
  },
  {
   "cell_type": "markdown",
   "id": "9f14b2f9-4c04-444b-9b27-05a70be0b9bb",
   "metadata": {},
   "source": [
    "#### 1) Importação das bibliotecas  \n",
    "Serão utilizados alguns pacotes para a implementação do código. São eles:\n",
    "- pandas: leitura dos arquivos\n",
    "- numpy, scipy: cálculo de algumas estatísticas\n",
    "- sklearn: modelo de regressão, separação dos dados entre treino e teste, transformação dos atributos categóricos para numéricos (caso necessário), matriz de confusão, avaliação do erro, validação cruzada, seleção de atributos\n",
    "- statsmodels: modelo de regressão\n",
    "- matplotly.pyplot e plotly: visualizações extras"
   ]
  },
  {
   "cell_type": "code",
   "execution_count": 53,
   "id": "2eec6113-1733-4b72-8ecf-6fec2d3b5bbd",
   "metadata": {},
   "outputs": [],
   "source": [
    "import pandas as pd\n",
    "import numpy as np\n",
    "from sklearn.datasets import load_boston\n",
    "from sklearn.linear_model import LinearRegression\n",
    "from sklearn.feature_selection import RFECV\n",
    "from sklearn.model_selection import cross_validate\n",
    "from sklearn.model_selection import train_test_split\n",
    "import time\n",
    "import statsmodels.api as sm\n",
    "import matplotlib.pyplot as plt"
   ]
  },
  {
   "cell_type": "code",
   "execution_count": null,
   "id": "e2555324-bcca-4142-90a7-1e09caab175c",
   "metadata": {},
   "outputs": [],
   "source": []
  },
  {
   "cell_type": "code",
   "execution_count": 21,
   "id": "faa4e147-3bf3-4481-928f-c5329908246f",
   "metadata": {},
   "outputs": [],
   "source": [
    "X, y = load_boston(return_X_y=True)\n",
    "columns = ['CRIM', 'ZN', 'INDUS', 'CHAS', 'NOX', 'RM', 'AGE', 'DIS', 'RAD', 'TAX', 'PTRATIO', 'B', 'LSTAT', 'MEDV']\n",
    "data = pd.DataFrame(X, columns = columns[0:13]).astype('float64')\n",
    "target = pd.DataFrame(y, columns = ['MEDV']).astype('float64')\n",
    "target = target['MEDV']\n",
    "dataset = pd.merge(data, target, left_index = True, right_index = True)"
   ]
  },
  {
   "cell_type": "code",
   "execution_count": 22,
   "id": "dc8e1979-31ad-4d75-bbcc-53494195f1a1",
   "metadata": {},
   "outputs": [],
   "source": [
    "def processSubset(feature_set):\n",
    "    # Fit model on feature_set and calculate RSS\n",
    "    model = sm.OLS(target,data[list(feature_set)])\n",
    "    regr = model.fit()\n",
    "    RSS = ((regr.predict(data[list(feature_set)]) - target) ** 2).sum()\n",
    "    return {\"model\":regr, \"RSS\":RSS}"
   ]
  },
  {
   "cell_type": "code",
   "execution_count": 23,
   "id": "03151cb0-29f6-4891-b934-d932783b159a",
   "metadata": {},
   "outputs": [],
   "source": [
    "def getBest(k):\n",
    "    \n",
    "    tic = time.time()\n",
    "    \n",
    "    results = []\n",
    "    \n",
    "    for combo in itertools.combinations(data.columns, k):\n",
    "        results.append(processSubset(combo))\n",
    "    \n",
    "    # Wrap everything up in a nice dataframe\n",
    "    models = pd.DataFrame(results)\n",
    "    \n",
    "    # Choose the model with the highest RSS\n",
    "    best_model = models.loc[models['RSS'].argmin()]\n",
    "    \n",
    "    toc = time.time()\n",
    "    print(\"Processed\", models.shape[0], \"models on\", k, \"predictors in\", (toc-tic), \"seconds.\")\n",
    "    \n",
    "    # Return the best model, along with some other useful information about the model\n",
    "    return best_model"
   ]
  },
  {
   "cell_type": "code",
   "execution_count": 24,
   "id": "e8fbff5e-4772-4d6e-8d7b-cd6a0e354ae3",
   "metadata": {
    "tags": []
   },
   "outputs": [
    {
     "name": "stdout",
     "output_type": "stream",
     "text": [
      "Processed 13 models on 1 predictors in 0.030887126922607422 seconds.\n",
      "Processed 78 models on 2 predictors in 0.1266613006591797 seconds.\n",
      "Processed 286 models on 3 predictors in 0.4996638298034668 seconds.\n",
      "Processed 715 models on 4 predictors in 1.2556424140930176 seconds.\n",
      "Processed 1287 models on 5 predictors in 2.491337776184082 seconds.\n",
      "Processed 1716 models on 6 predictors in 3.2941906452178955 seconds.\n",
      "Processed 1716 models on 7 predictors in 3.3191237449645996 seconds.\n",
      "Processed 1287 models on 8 predictors in 2.634953498840332 seconds.\n",
      "Processed 715 models on 9 predictors in 1.5039780139923096 seconds.\n",
      "Processed 286 models on 10 predictors in 0.557509183883667 seconds.\n",
      "Processed 78 models on 11 predictors in 0.16954660415649414 seconds.\n",
      "Processed 13 models on 12 predictors in 0.02792525291442871 seconds.\n",
      "Total elapsed time: 16.00417137145996 seconds.\n"
     ]
    }
   ],
   "source": [
    "# Could take quite awhile to complete...\n",
    "\n",
    "models_best = pd.DataFrame(columns=[\"RSS\", \"model\"])\n",
    "\n",
    "tic = time.time()\n",
    "for i in range(1,13):\n",
    "    models_best.loc[i] = getBest(i)\n",
    "\n",
    "toc = time.time()\n",
    "print(\"Total elapsed time:\", (toc-tic), \"seconds.\")"
   ]
  },
  {
   "cell_type": "code",
   "execution_count": 25,
   "id": "3080f2e7-b57f-44b2-b7a4-c8c498854fe9",
   "metadata": {
    "tags": []
   },
   "outputs": [
    {
     "data": {
      "text/html": [
       "<div>\n",
       "<style scoped>\n",
       "    .dataframe tbody tr th:only-of-type {\n",
       "        vertical-align: middle;\n",
       "    }\n",
       "\n",
       "    .dataframe tbody tr th {\n",
       "        vertical-align: top;\n",
       "    }\n",
       "\n",
       "    .dataframe thead th {\n",
       "        text-align: right;\n",
       "    }\n",
       "</style>\n",
       "<table border=\"1\" class=\"dataframe\">\n",
       "  <thead>\n",
       "    <tr style=\"text-align: right;\">\n",
       "      <th></th>\n",
       "      <th>RSS</th>\n",
       "      <th>model</th>\n",
       "    </tr>\n",
       "  </thead>\n",
       "  <tbody>\n",
       "    <tr>\n",
       "      <th>1</th>\n",
       "      <td>29555.781529</td>\n",
       "      <td>&lt;statsmodels.regression.linear_model.Regressio...</td>\n",
       "    </tr>\n",
       "    <tr>\n",
       "      <th>2</th>\n",
       "      <td>15444.934439</td>\n",
       "      <td>&lt;statsmodels.regression.linear_model.Regressio...</td>\n",
       "    </tr>\n",
       "    <tr>\n",
       "      <th>3</th>\n",
       "      <td>14343.626020</td>\n",
       "      <td>&lt;statsmodels.regression.linear_model.Regressio...</td>\n",
       "    </tr>\n",
       "    <tr>\n",
       "      <th>4</th>\n",
       "      <td>13555.583004</td>\n",
       "      <td>&lt;statsmodels.regression.linear_model.Regressio...</td>\n",
       "    </tr>\n",
       "    <tr>\n",
       "      <th>5</th>\n",
       "      <td>13161.006084</td>\n",
       "      <td>&lt;statsmodels.regression.linear_model.Regressio...</td>\n",
       "    </tr>\n",
       "    <tr>\n",
       "      <th>6</th>\n",
       "      <td>12895.173642</td>\n",
       "      <td>&lt;statsmodels.regression.linear_model.Regressio...</td>\n",
       "    </tr>\n",
       "    <tr>\n",
       "      <th>7</th>\n",
       "      <td>12701.148163</td>\n",
       "      <td>&lt;statsmodels.regression.linear_model.Regressio...</td>\n",
       "    </tr>\n",
       "    <tr>\n",
       "      <th>8</th>\n",
       "      <td>12538.094816</td>\n",
       "      <td>&lt;statsmodels.regression.linear_model.Regressio...</td>\n",
       "    </tr>\n",
       "    <tr>\n",
       "      <th>9</th>\n",
       "      <td>12439.049646</td>\n",
       "      <td>&lt;statsmodels.regression.linear_model.Regressio...</td>\n",
       "    </tr>\n",
       "    <tr>\n",
       "      <th>10</th>\n",
       "      <td>12264.742998</td>\n",
       "      <td>&lt;statsmodels.regression.linear_model.Regressio...</td>\n",
       "    </tr>\n",
       "    <tr>\n",
       "      <th>11</th>\n",
       "      <td>12235.022544</td>\n",
       "      <td>&lt;statsmodels.regression.linear_model.Regressio...</td>\n",
       "    </tr>\n",
       "    <tr>\n",
       "      <th>12</th>\n",
       "      <td>12228.144719</td>\n",
       "      <td>&lt;statsmodels.regression.linear_model.Regressio...</td>\n",
       "    </tr>\n",
       "  </tbody>\n",
       "</table>\n",
       "</div>"
      ],
      "text/plain": [
       "             RSS                                              model\n",
       "1   29555.781529  <statsmodels.regression.linear_model.Regressio...\n",
       "2   15444.934439  <statsmodels.regression.linear_model.Regressio...\n",
       "3   14343.626020  <statsmodels.regression.linear_model.Regressio...\n",
       "4   13555.583004  <statsmodels.regression.linear_model.Regressio...\n",
       "5   13161.006084  <statsmodels.regression.linear_model.Regressio...\n",
       "6   12895.173642  <statsmodels.regression.linear_model.Regressio...\n",
       "7   12701.148163  <statsmodels.regression.linear_model.Regressio...\n",
       "8   12538.094816  <statsmodels.regression.linear_model.Regressio...\n",
       "9   12439.049646  <statsmodels.regression.linear_model.Regressio...\n",
       "10  12264.742998  <statsmodels.regression.linear_model.Regressio...\n",
       "11  12235.022544  <statsmodels.regression.linear_model.Regressio...\n",
       "12  12228.144719  <statsmodels.regression.linear_model.Regressio..."
      ]
     },
     "execution_count": 25,
     "metadata": {},
     "output_type": "execute_result"
    }
   ],
   "source": [
    "models_best"
   ]
  },
  {
   "cell_type": "code",
   "execution_count": null,
   "id": "64959645-e83c-43b1-bf43-e91c9c1477df",
   "metadata": {
    "tags": []
   },
   "outputs": [],
   "source": [
    "print(models_best.loc[12, \"model\"].summary())"
   ]
  },
  {
   "cell_type": "code",
   "execution_count": null,
   "id": "ff1526b4-5eb6-45ce-9c42-e4c5c3f09c41",
   "metadata": {
    "tags": []
   },
   "outputs": [],
   "source": [
    "print(getBest(12)[\"model\"].summary())"
   ]
  },
  {
   "cell_type": "code",
   "execution_count": null,
   "id": "274c1529-275e-4115-afb1-badee0278ca6",
   "metadata": {},
   "outputs": [],
   "source": [
    "plt.figure(figsize=(20,10))\n",
    "plt.rcParams.update({'font.size': 18, 'lines.markersize': 10})\n",
    "\n",
    "# Set up a 2x2 grid so we can look at 4 plots at once\n",
    "plt.subplot(2, 2, 1)\n",
    "\n",
    "# We will now plot a red dot to indicate the model with the largest adjusted R^2 statistic.\n",
    "# The argmax() function can be used to identify the location of the maximum point of a vector\n",
    "plt.plot(models_best[\"RSS\"])\n",
    "plt.plot(models_best[\"RSS\"].argmin(), models_best[\"RSS\"].min(), \"or\")\n",
    "plt.xlabel('# Predictors')\n",
    "plt.ylabel('RSS')\n",
    "\n",
    "# We will now plot a red dot to indicate the model with the largest adjusted R^2 statistic.\n",
    "# The argmax() function can be used to identify the location of the maximum point of a vector\n",
    "rsquared_adj = models_best.apply(lambda row: row[1].rsquared_adj, axis=1)\n",
    "\n",
    "plt.subplot(2, 2, 2)\n",
    "plt.plot(rsquared_adj)\n",
    "plt.plot(rsquared_adj.argmax(), rsquared_adj.max(), \"or\")\n",
    "plt.xlabel('# Predictors')\n",
    "plt.ylabel('adjusted rsquared')\n",
    "\n",
    "# We'll do the same for AIC and BIC, this time looking for the models with the SMALLEST statistic\n",
    "aic = models_best.apply(lambda row: row[1].aic, axis=1)\n",
    "m = len(target)\n",
    "p = 12\n",
    "hat_sigma_squared = (1/(m - p -1)) * min(models_best[\"RSS\"])\n",
    "cp = (1/m) * (models_best[\"RSS\"] + 2 * 506 * hat_sigma_squared )\n",
    "\n",
    "plt.subplot(2, 2, 3)\n",
    "plt.plot(cp)\n",
    "plt.plot(cp.argmin(), cp.min(), \"or\")\n",
    "plt.xlabel('# Predictors')\n",
    "plt.ylabel('Cp')\n",
    "\n",
    "bic = models_best.apply(lambda row: row[1].bic, axis=1)\n",
    "\n",
    "plt.subplot(2, 2, 4)\n",
    "plt.plot(bic)\n",
    "plt.plot(bic.argmin(), bic.min(), \"or\")\n",
    "plt.xlabel('# Predictors')\n",
    "plt.ylabel('BIC')"
   ]
  },
  {
   "cell_type": "code",
   "execution_count": 26,
   "id": "516b4c1f-54d4-4b86-b2a3-b5ad9be5049c",
   "metadata": {},
   "outputs": [],
   "source": [
    "def forward(predictors):\n",
    "\n",
    "    # Pull out predictors we still need to process\n",
    "    remaining_predictors = [p for p in data.columns if p not in predictors]\n",
    "    \n",
    "    tic = time.time()\n",
    "    \n",
    "    results = []\n",
    "    \n",
    "    for p in remaining_predictors:\n",
    "        results.append(processSubset(predictors+[p]))\n",
    "    \n",
    "    # Wrap everything up in a nice dataframe\n",
    "    models = pd.DataFrame(results)\n",
    "    \n",
    "    # Choose the model with the highest RSS\n",
    "    best_model = models.loc[models['RSS'].argmin()]\n",
    "    \n",
    "    toc = time.time()\n",
    "    print(\"Processed \", models.shape[0], \"models on\", len(predictors)+1, \"predictors in\", (toc-tic), \"seconds.\")\n",
    "    \n",
    "    # Return the best model, along with some other useful information about the model\n",
    "    return best_model"
   ]
  },
  {
   "cell_type": "code",
   "execution_count": 27,
   "id": "a94cdffb-65df-486a-869f-ba63d0bcef20",
   "metadata": {},
   "outputs": [
    {
     "name": "stdout",
     "output_type": "stream",
     "text": [
      "Processed  13 models on 1 predictors in 0.023911476135253906 seconds.\n",
      "Processed  12 models on 2 predictors in 0.019946813583374023 seconds.\n",
      "Processed  11 models on 3 predictors in 0.018949270248413086 seconds.\n",
      "Processed  10 models on 4 predictors in 0.016954898834228516 seconds.\n",
      "Processed  9 models on 5 predictors in 0.015957355499267578 seconds.\n",
      "Processed  8 models on 6 predictors in 0.013962745666503906 seconds.\n",
      "Processed  7 models on 7 predictors in 0.012964963912963867 seconds.\n",
      "Processed  6 models on 8 predictors in 0.010970592498779297 seconds.\n",
      "Processed  5 models on 9 predictors in 0.00997304916381836 seconds.\n",
      "Processed  4 models on 10 predictors in 0.006981372833251953 seconds.\n",
      "Processed  3 models on 11 predictors in 0.0069811344146728516 seconds.\n",
      "Processed  2 models on 12 predictors in 0.003989458084106445 seconds.\n",
      "Processed  1 models on 13 predictors in 0.002991914749145508 seconds.\n",
      "Total elapsed time: 0.19046616554260254 seconds.\n"
     ]
    }
   ],
   "source": [
    "models_fwd = pd.DataFrame(columns=[\"RSS\", \"model\"])\n",
    "\n",
    "tic = time.time()\n",
    "predictors = []\n",
    "\n",
    "for i in range(1,len(data.columns)+1):    \n",
    "    models_fwd.loc[i] = forward(predictors)\n",
    "    predictors = models_fwd.loc[i][\"model\"].model.exog_names\n",
    "\n",
    "toc = time.time()\n",
    "print(\"Total elapsed time:\", (toc-tic), \"seconds.\")"
   ]
  },
  {
   "cell_type": "code",
   "execution_count": 28,
   "id": "22a97b08-103f-4983-bb66-a601ff8906c8",
   "metadata": {},
   "outputs": [
    {
     "name": "stdout",
     "output_type": "stream",
     "text": [
      "                                 OLS Regression Results                                \n",
      "=======================================================================================\n",
      "Dep. Variable:                   MEDV   R-squared (uncentered):                   0.901\n",
      "Model:                            OLS   Adj. R-squared (uncentered):              0.901\n",
      "Method:                 Least Squares   F-statistic:                              4615.\n",
      "Date:                Tue, 11 May 2021   Prob (F-statistic):                   3.74e-256\n",
      "Time:                        21:17:50   Log-Likelihood:                         -1747.1\n",
      "No. Observations:                 506   AIC:                                      3496.\n",
      "Df Residuals:                     505   BIC:                                      3500.\n",
      "Df Model:                           1                                                  \n",
      "Covariance Type:            nonrobust                                                  \n",
      "==============================================================================\n",
      "                 coef    std err          t      P>|t|      [0.025      0.975]\n",
      "------------------------------------------------------------------------------\n",
      "RM             3.6534      0.054     67.930      0.000       3.548       3.759\n",
      "==============================================================================\n",
      "Omnibus:                       83.295   Durbin-Watson:                   0.493\n",
      "Prob(Omnibus):                  0.000   Jarque-Bera (JB):              152.507\n",
      "Skew:                           0.955   Prob(JB):                     7.65e-34\n",
      "Kurtosis:                       4.894   Cond. No.                         1.00\n",
      "==============================================================================\n",
      "\n",
      "Notes:\n",
      "[1] R² is computed without centering (uncentered) since the model does not contain a constant.\n",
      "[2] Standard Errors assume that the covariance matrix of the errors is correctly specified.\n",
      "                                 OLS Regression Results                                \n",
      "=======================================================================================\n",
      "Dep. Variable:                   MEDV   R-squared (uncentered):                   0.948\n",
      "Model:                            OLS   Adj. R-squared (uncentered):              0.948\n",
      "Method:                 Least Squares   F-statistic:                              4637.\n",
      "Date:                Tue, 11 May 2021   Prob (F-statistic):                        0.00\n",
      "Time:                        21:17:50   Log-Likelihood:                         -1582.9\n",
      "No. Observations:                 506   AIC:                                      3170.\n",
      "Df Residuals:                     504   BIC:                                      3178.\n",
      "Df Model:                           2                                                  \n",
      "Covariance Type:            nonrobust                                                  \n",
      "==============================================================================\n",
      "                 coef    std err          t      P>|t|      [0.025      0.975]\n",
      "------------------------------------------------------------------------------\n",
      "RM             4.9069      0.070     69.906      0.000       4.769       5.045\n",
      "LSTAT         -0.6557      0.031    -21.458      0.000      -0.716      -0.596\n",
      "==============================================================================\n",
      "Omnibus:                      145.153   Durbin-Watson:                   0.834\n",
      "Prob(Omnibus):                  0.000   Jarque-Bera (JB):              442.157\n",
      "Skew:                           1.351   Prob(JB):                     9.70e-97\n",
      "Kurtosis:                       6.698   Cond. No.                         4.72\n",
      "==============================================================================\n",
      "\n",
      "Notes:\n",
      "[1] R² is computed without centering (uncentered) since the model does not contain a constant.\n",
      "[2] Standard Errors assume that the covariance matrix of the errors is correctly specified.\n"
     ]
    }
   ],
   "source": [
    "print(models_fwd.loc[1, \"model\"].summary())\n",
    "print(models_fwd.loc[2, \"model\"].summary())"
   ]
  },
  {
   "cell_type": "code",
   "execution_count": 29,
   "id": "e47b8134-bee4-4741-8012-e90f5eaca370",
   "metadata": {},
   "outputs": [],
   "source": [
    "def backward(predictors):\n",
    "    \n",
    "    tic = time.time()\n",
    "    \n",
    "    results = []\n",
    "    \n",
    "    for combo in itertools.combinations(predictors, len(predictors)-1):\n",
    "        results.append(processSubset(combo))\n",
    "    \n",
    "    # Wrap everything up in a nice dataframe\n",
    "    models = pd.DataFrame(results)\n",
    "    \n",
    "    # Choose the model with the highest RSS\n",
    "    best_model = models.loc[models['RSS'].argmin()]\n",
    "    \n",
    "    toc = time.time()\n",
    "    print(\"Processed \", models.shape[0], \"models on\", len(predictors)-1, \"predictors in\", (toc-tic), \"seconds.\")\n",
    "    \n",
    "    # Return the best model, along with some other useful information about the model\n",
    "    return best_model"
   ]
  },
  {
   "cell_type": "code",
   "execution_count": 30,
   "id": "34695dc9-69cc-4a62-b38b-986ed2464803",
   "metadata": {},
   "outputs": [
    {
     "name": "stdout",
     "output_type": "stream",
     "text": [
      "Processed  13 models on 12 predictors in 0.029920101165771484 seconds.\n",
      "Processed  12 models on 11 predictors in 0.02194070816040039 seconds.\n",
      "Processed  11 models on 10 predictors in 0.019946575164794922 seconds.\n",
      "Processed  10 models on 9 predictors in 0.01795196533203125 seconds.\n",
      "Processed  9 models on 8 predictors in 0.016954898834228516 seconds.\n",
      "Processed  8 models on 7 predictors in 0.01595783233642578 seconds.\n",
      "Processed  7 models on 6 predictors in 0.014959335327148438 seconds.\n",
      "Processed  6 models on 5 predictors in 0.009973526000976562 seconds.\n",
      "Processed  5 models on 4 predictors in 0.008975982666015625 seconds.\n",
      "Processed  4 models on 3 predictors in 0.007978439331054688 seconds.\n",
      "Processed  3 models on 2 predictors in 0.005984067916870117 seconds.\n",
      "Processed  2 models on 1 predictors in 0.003989458084106445 seconds.\n",
      "Total elapsed time: 0.1795189380645752 seconds.\n"
     ]
    }
   ],
   "source": [
    "models_bwd = pd.DataFrame(columns=[\"RSS\", \"model\"], index = range(1,len(data.columns)))\n",
    "\n",
    "tic = time.time()\n",
    "predictors = data.columns\n",
    "\n",
    "while(len(predictors) > 1):  \n",
    "    models_bwd.loc[len(predictors)-1] = backward(predictors)\n",
    "    predictors = models_bwd.loc[len(predictors)-1][\"model\"].model.exog_names\n",
    "\n",
    "toc = time.time()\n",
    "print(\"Total elapsed time:\", (toc-tic), \"seconds.\")"
   ]
  },
  {
   "cell_type": "code",
   "execution_count": 31,
   "id": "6a69255b-7446-4fbe-92b6-908c002dd445",
   "metadata": {},
   "outputs": [
    {
     "name": "stdout",
     "output_type": "stream",
     "text": [
      "------------\n",
      "Best Subset:\n",
      "------------\n",
      "ZN         0.038211\n",
      "CHAS       2.971853\n",
      "RM         5.592302\n",
      "DIS       -0.682234\n",
      "PTRATIO   -0.534289\n",
      "B          0.015695\n",
      "LSTAT     -0.509523\n",
      "dtype: float64\n"
     ]
    }
   ],
   "source": [
    "print(\"------------\")\n",
    "print(\"Best Subset:\")\n",
    "print(\"------------\")\n",
    "print(models_best.loc[7, \"model\"].params)"
   ]
  },
  {
   "cell_type": "code",
   "execution_count": 32,
   "id": "268dcb64-a8b4-4209-abb2-7aed251c352b",
   "metadata": {},
   "outputs": [
    {
     "name": "stdout",
     "output_type": "stream",
     "text": [
      "-----------------\n",
      "Foward Selection:\n",
      "-----------------\n",
      "RM         5.592302\n",
      "LSTAT     -0.509523\n",
      "PTRATIO   -0.534289\n",
      "B          0.015695\n",
      "DIS       -0.682234\n",
      "CHAS       2.971853\n",
      "ZN         0.038211\n",
      "dtype: float64\n"
     ]
    }
   ],
   "source": [
    "print(\"-----------------\")\n",
    "print(\"Foward Selection:\")\n",
    "print(\"-----------------\")\n",
    "print(models_fwd.loc[7, \"model\"].params)"
   ]
  },
  {
   "cell_type": "code",
   "execution_count": 33,
   "id": "34889634-2982-41a9-bf35-d4e2cfadb4c8",
   "metadata": {},
   "outputs": [
    {
     "name": "stdout",
     "output_type": "stream",
     "text": [
      "-------------------\n",
      "Backward Selection:\n",
      "-------------------\n",
      "ZN         0.038211\n",
      "CHAS       2.971853\n",
      "RM         5.592302\n",
      "DIS       -0.682234\n",
      "PTRATIO   -0.534289\n",
      "B          0.015695\n",
      "LSTAT     -0.509523\n",
      "dtype: float64\n"
     ]
    }
   ],
   "source": [
    "print(\"-------------------\")\n",
    "print(\"Backward Selection:\")\n",
    "print(\"-------------------\")\n",
    "print(models_bwd.loc[7, \"model\"].params)"
   ]
  },
  {
   "cell_type": "code",
   "execution_count": 37,
   "id": "97c5bf9e-4a94-49c1-84dc-c07449b4962d",
   "metadata": {},
   "outputs": [
    {
     "data": {
      "text/plain": [
       "LinearRegression()"
      ]
     },
     "execution_count": 37,
     "metadata": {},
     "output_type": "execute_result"
    }
   ],
   "source": [
    "model = LinearRegression()\n",
    "model.fit(data, target)"
   ]
  },
  {
   "cell_type": "code",
   "execution_count": 39,
   "id": "e390e36c-6808-46d9-8a1b-b411124868ab",
   "metadata": {},
   "outputs": [
    {
     "data": {
      "text/plain": [
       "array([False, False, False,  True,  True,  True, False,  True, False,\n",
       "       False,  True, False,  True])"
      ]
     },
     "execution_count": 39,
     "metadata": {},
     "output_type": "execute_result"
    }
   ],
   "source": [
    "selector = RFECV(model, step=1, cv=12)\n",
    "selector = selector.fit(data,target)\n",
    "selector.support_"
   ]
  },
  {
   "cell_type": "code",
   "execution_count": 52,
   "id": "44fe3a14-640f-4a24-9f45-b77d6e02d8c3",
   "metadata": {},
   "outputs": [
    {
     "data": {
      "text/plain": [
       "{'fit_time': array([0.00299215, 0.00199461, 0.00199461, 0.00199461, 0.00199461]),\n",
       " 'score_time': array([0.0009973 , 0.00199485, 0.00099754, 0.00199437, 0.00099707]),\n",
       " 'estimator': (LinearRegression(),\n",
       "  LinearRegression(),\n",
       "  LinearRegression(),\n",
       "  LinearRegression(),\n",
       "  LinearRegression()),\n",
       " 'test_score': array([ 0.63919994,  0.71386698,  0.58702344,  0.07923081, -0.25294154])}"
      ]
     },
     "execution_count": 52,
     "metadata": {},
     "output_type": "execute_result"
    }
   ],
   "source": [
    "cv_results = cross_validate(model, data, target, return_estimator = True)\n",
    "cv_results"
   ]
  }
 ],
 "metadata": {
  "kernelspec": {
   "display_name": "Python 3",
   "language": "python",
   "name": "python3"
  },
  "language_info": {
   "codemirror_mode": {
    "name": "ipython",
    "version": 3
   },
   "file_extension": ".py",
   "mimetype": "text/x-python",
   "name": "python",
   "nbconvert_exporter": "python",
   "pygments_lexer": "ipython3",
   "version": "3.6.13"
  }
 },
 "nbformat": 4,
 "nbformat_minor": 5
}
